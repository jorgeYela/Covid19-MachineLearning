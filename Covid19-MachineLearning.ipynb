{
 "cells": [
  {
   "cell_type": "markdown",
   "metadata": {},
   "source": [
    "### Load Data. "
   ]
  },
  {
   "cell_type": "code",
   "execution_count": 1,
   "metadata": {},
   "outputs": [],
   "source": [
    "import pandas as pd\n",
    "\n",
    "dataset = \"master_dataset.csv\"\n",
    "df = pd.read_csv(dataset, sep=\";\", low_memory=False)"
   ]
  },
  {
   "cell_type": "markdown",
   "metadata": {},
   "source": [
    "### QUALITY MEASURES."
   ]
  },
  {
   "cell_type": "code",
   "execution_count": 3,
   "metadata": {},
   "outputs": [
    {
     "name": "stdout",
     "output_type": "stream",
     "text": [
      "Mean Risk Infection:  11.226598348946093\n",
      "Mean Risk Mortality:  0.32795883979506896\n"
     ]
    }
   ],
   "source": [
    "risk_infection = df['risk_infection']\n",
    "risk_mortality = df['risk_mortality']\n",
    "\n",
    "# MEDIA - 'RISK_INFECTION' AND 'RISK_MORTALITY'.\n",
    "infectionMean = risk_infection.mean()\n",
    "mortalityMean = risk_mortality.mean()\n",
    "\n",
    "print(\"Mean Risk Infection: \" , infectionMean)\n",
    "print(\"Mean Risk Mortality: \" , mortalityMean)"
   ]
  },
  {
   "cell_type": "code",
   "execution_count": 4,
   "metadata": {},
   "outputs": [
    {
     "name": "stdout",
     "output_type": "stream",
     "text": [
      "Variance Risk Infection:  197.18437225097995\n",
      "Variance Risk Mortality:  0.7494979851860268\n"
     ]
    }
   ],
   "source": [
    "# VARIANCE - 'RISK_INFECTION' AND 'RISK_MORTALITY'.\n",
    "infectionVar = risk_infection.var()\n",
    "mortalityVar = risk_mortality.var()\n",
    "\n",
    "print(\"Variance Risk Infection: \" , infectionVar)\n",
    "print(\"Variance Risk Mortality: \" , mortalityVar)"
   ]
  },
  {
   "cell_type": "markdown",
   "metadata": {},
   "source": [
    "### DATA PROCESSING AND CLEANING. "
   ]
  },
  {
   "cell_type": "code",
   "execution_count": 2,
   "metadata": {},
   "outputs": [],
   "source": [
    "# TRANSFORMATION CATEGORICAL TO NUMERIC VARIABLES. \n",
    "\n",
    "# PROCESS VARIABLES WITH NULL VALUES TO 0. \n",
    "\n",
    "df['age']= df['age'].replace({\"0_10\":1,\"10_20\":2,\"20_30\":3,\"30_40\":4,\"40_50\":5,\"50_60\":6,\"60_70\":7,\"70_80\":8,\"80_90\":9,\"90_100\":10,\"100_110\":0})\n",
    "df['ip_accuracy']= df['ip_accuracy'].fillna(0)\n",
    "df['bmi']= df['bmi'].fillna(0)\n",
    "df['alcohol']= df['alcohol'].fillna(0)\n",
    "df['cannabis']= df['cannabis'].fillna(0)\n",
    "df['amphetamines']= df['amphetamines'].fillna(0)\n",
    "df['cocaine']= df['cocaine'].fillna(0)\n",
    "df['lsd']= df['lsd'].fillna(0)\n",
    "df['mdma']= df['mdma'].fillna(0)\n",
    "df['contacts_count']= df['contacts_count'].fillna(0)\n",
    "df['house_count']= df['house_count'].fillna(0)\n",
    "df['public_transport_count']= df['public_transport_count'].fillna(0)\n",
    "df['worried']= df['worried'].fillna(0)\n",
    "df['rate_reducing_mask']= df['rate_reducing_mask'].fillna(0)\n",
    "df['opinion_mortality']= df['opinion_mortality'].fillna(0)\n",
    "df['opinion_infection']= df['opinion_infection'].fillna(0)\n",
    "df['rate_reducing_mask']= df['rate_reducing_mask'].fillna(0)\n",
    "df['prescription_medication']= df['prescription_medication'].fillna(0)\n",
    "\n",
    "# PROCESS EMPTY VARIABLES TO NONE.\n",
    "\n",
    "df['region']= df['region'].fillna('none')\n",
    "df['country']= df['country'].fillna('none')\n",
    "df['insurance']= df['insurance'].fillna('none')\n",
    "df['income']= df['income'].fillna('none')\n",
    "df['race']= df['race'].fillna('none')\n",
    "df['immigrant']= df['immigrant'].fillna('none')\n",
    "df['smoking']=df['smoking'].fillna('none')\n",
    "df['working']= df['working'].fillna('none')\n",
    "df['rate_reducing_mask_type']=df['rate_reducing_mask_type'].fillna('none')"
   ]
  },
  {
   "cell_type": "code",
   "execution_count": 3,
   "metadata": {},
   "outputs": [
    {
     "name": "stderr",
     "output_type": "stream",
     "text": [
      "C:\\ProgramData\\Anaconda3\\lib\\site-packages\\sklearn\\preprocessing\\data.py:645: DataConversionWarning: Data with input dtype int64, float64 were all converted to float64 by StandardScaler.\n",
      "  return self.partial_fit(X, y)\n",
      "C:\\ProgramData\\Anaconda3\\lib\\site-packages\\sklearn\\base.py:464: DataConversionWarning: Data with input dtype int64, float64 were all converted to float64 by StandardScaler.\n",
      "  return self.fit(X, **fit_params).transform(X)\n"
     ]
    }
   ],
   "source": [
    "# SEPARATING CATEGORICAL AND NUMERICAL VARIABLES FOR YOUR FUTURE PROCESSING WITH ONE HOT ENCODER.\n",
    "\n",
    "Xsubset =df[['region','country','ip_latitude','ip_longitude','ip_accuracy','sex','age','height','weight','bmi',\n",
    "'blood_type','insurance','income','race','immigrant','smoking','alcohol','cannabis','amphetamines','cocaine','lsd',\n",
    "'mdma','contacts_count','house_count','public_transport_count','working','worried','rate_reducing_risk_single','rate_reducing_risk_single_social_distancing',\n",
    "'rate_reducing_risk_single_washing_hands','rate_reducing_risk_house','rate_reducing_risk_house_social_distancing','rate_reducing_risk_house_washing_hands',\n",
    "'rate_reducing_risk_single_sanitizer','rate_reducing_mask','rate_reducing_mask_type','rate_government_action','rate_government_control','rate_government_spend',\n",
    "'covid19_positive','covid19_symptoms','covid19_contact','asthma','kidney_disease','liver_disease','compromised_immune','heart_disease','lung_disease','diabetes',\n",
    "'hiv_positive','hypertension','other_chronic','nursing_home','health_worker','prescription_medication','opinion_infection','opinion_mortality','risk_infection','risk_mortality']]\n",
    "\n",
    "# IMPLEMENTATION OF ONE HOT ENCODER. \n",
    "\n",
    "from sklearn.compose import make_column_transformer, ColumnTransformer\n",
    "from sklearn.preprocessing import OneHotEncoder, StandardScaler\n",
    "\n",
    "procesado = make_column_transformer(\n",
    "    (StandardScaler(),['ip_latitude','ip_longitude','ip_accuracy','age','height','weight','bmi','alcohol','cannabis',\n",
    "                       'amphetamines','cocaine','lsd','mdma','contacts_count','house_count','public_transport_count',\n",
    "                       'worried','rate_reducing_risk_single','rate_reducing_risk_single_social_distancing','rate_reducing_risk_single_washing_hands','rate_reducing_risk_house',\n",
    "                       'rate_reducing_risk_house_social_distancing','rate_reducing_risk_house_washing_hands','rate_reducing_risk_single_sanitizer','rate_reducing_mask',\n",
    "                       'rate_government_action','rate_government_control','rate_government_spend','covid19_symptoms','covid19_contact','asthma','kidney_disease','liver_disease',\n",
    "                       'compromised_immune','heart_disease','lung_disease','diabetes','hiv_positive','hypertension','other_chronic','nursing_home','health_worker', 'opinion_infection',\n",
    "                       'opinion_mortality','prescription_medication','risk_infection','risk_mortality']),\n",
    "    (OneHotEncoder(),[ 'region','sex','blood_type','insurance','income','race','immigrant','smoking','working',\n",
    "                       'rate_reducing_mask_type']))\n",
    "X = procesado.fit_transform(Xsubset)\n",
    "categorical_features = ['region','sex','blood_type','insurance','income','race','immigrant','smoking','working',\n",
    "                        'rate_reducing_mask_type']\n",
    "nombresData1 = ['ip_latitude','ip_longitude','ip_accuracy','age','height','weight','bmi','alcohol','cannabis',\n",
    "                        'amphetamines','cocaine','lsd','mdma','contacts_count','house_count','public_transport_count',\n",
    "                        'worried','rate_reducing_risk_single','rate_reducing_risk_single_social_distancing','rate_reducing_risk_single_washing_hands','rate_reducing_risk_house',\n",
    "                        'rate_reducing_risk_house_social_distancing','rate_reducing_risk_house_washing_hands','rate_reducing_risk_single_sanitizer','rate_reducing_mask',\n",
    "                        'rate_government_action','rate_government_control','rate_government_spend','covid19_symptoms','covid19_contact','asthma','kidney_disease','liver_disease',\n",
    "                        'compromised_immune','heart_disease','lung_disease','diabetes','hiv_positive','hypertension','other_chronic','nursing_home','health_worker', 'opinion_infection',\n",
    "                        'opinion_mortality','prescription_medication','risk_infection','risk_mortality']\n",
    "nombresData2 = procesado.transformers_[1][1].get_feature_names(categorical_features)\n",
    "nombresData1.extend(nombresData2)\n",
    "procesadoF = pd.DataFrame(data=X,columns=nombresData1)\n",
    "# procesadoF.to_csv(\"DatosCovidPreprocesado.csv\", sep=\";\",index = False)"
   ]
  },
  {
   "cell_type": "code",
   "execution_count": 11,
   "metadata": {},
   "outputs": [],
   "source": [
    "import numpy as np\n",
    "\n",
    "# FINAL DATA CLEANING. \n",
    "\n",
    "for i in range(111):\n",
    "    procesadoF.replace('?', np.nan, inplace = True)\n",
    "    procesadoF.dropna(subset=[procesadoF.columns[i]], axis=0, inplace = True)\n",
    "    procesadoF.reset_index(drop = True, inplace = True)"
   ]
  },
  {
   "cell_type": "markdown",
   "metadata": {},
   "source": [
    "### PROPOSED METHOD."
   ]
  },
  {
   "cell_type": "code",
   "execution_count": 44,
   "metadata": {},
   "outputs": [],
   "source": [
    "# DIMENSIONALITY REDUCTION PCA.\n",
    "\n",
    "from sklearn.preprocessing import StandardScaler\n",
    "from sklearn.decomposition import PCA\n",
    "\n",
    "# SEARCH FOR THE NUMBER OF OPTIMAL COMPONENTS ACCORDING TO THE ELBOW METHOD.\n",
    "\n",
    "pca = PCA()\n",
    "principalComponents = pca.fit_transform(procesadoF)\n",
    "a = range(111)\n",
    "num_pc = a[::1]\n",
    "principalDF = pd.DataFrame(data = principalComponents, columns = num_pc)\n",
    "principalDF = round(principalDF, 2)\n",
    "explained_variance = pca.explained_variance_ratio_"
   ]
  },
  {
   "cell_type": "code",
   "execution_count": 45,
   "metadata": {},
   "outputs": [
    {
     "data": {
      "image/png": "[encoded data removed]",
      "text/plain": [
       "<Figure size 432x288 with 1 Axes>"
      ]
     },
     "metadata": {
      "needs_background": "light"
     },
     "output_type": "display_data"
    }
   ],
   "source": [
    "# GRAPHIC PCA ELBOW METHOD. \n",
    "\n",
    "# import matplotlib.pyplot as plt\n",
    "\n",
    "explained_variance\n",
    "a = range(111)\n",
    "num_pc= a[::1]\n",
    "plt.plot(num_pc, explained_variance, color='black', linestyle='dashed', linewidth = 3, \n",
    "         marker='o', markerfacecolor='blue', markersize=12)\n",
    "plt.title('VARIANCE ANALYSIS')\n",
    "plt.xlabel('NUMBER OF MAIN COMPONENTS')\n",
    "plt.ylabel('VARIANCE')\n",
    "plt.show()"
   ]
  },
  {
   "cell_type": "code",
   "execution_count": 298,
   "metadata": {},
   "outputs": [],
   "source": [
    "# APPLICATION OF PCA WITH 40 COMPONENTS.\n",
    "from sklearn.preprocessing import StandardScaler\n",
    "from sklearn.decomposition import PCA\n",
    "num_components=20\n",
    "pca = PCA(num_components)\n",
    "principalComponents = pca.fit_transform(procesadoF)\n",
    "a = range(num_components)\n",
    "num_pc= a[::1]\n",
    "principalDf = pd.DataFrame(data = principalComponents, columns = num_pc)\n",
    "principalDf=round(principalDf, 2)\n",
    "explained_variance=pca.explained_variance_ratio_"
   ]
  },
  {
   "cell_type": "code",
   "execution_count": 18,
   "metadata": {},
   "outputs": [
    {
     "data": {
      "image/png": "[encoded data removed]",
      "text/plain": [
       "<Figure size 432x288 with 1 Axes>"
      ]
     },
     "metadata": {
      "needs_background": "light"
     },
     "output_type": "display_data"
    }
   ],
   "source": [
    "# GRAPHIC OF PCA WITH 40 COMPONENTS.\n",
    "\n",
    "a = range(num_components)\n",
    "num_pc= a[::1]\n",
    "plt.plot(num_pc, explained_variance, color='black', linestyle='dashed', linewidth = 3, \n",
    "         marker='o', markerfacecolor='blue', markersize=12)\n",
    "plt.title('Analysis de Varianza')\n",
    "plt.xlabel('Numero de Componentes Principales')\n",
    "plt.ylabel('Varianza')\n",
    "plt.show()"
   ]
  },
  {
   "cell_type": "markdown",
   "metadata": {},
   "source": [
    "### Clustering."
   ]
  },
  {
   "cell_type": "code",
   "execution_count": 299,
   "metadata": {},
   "outputs": [],
   "source": [
    "from sklearn.cluster import KMeans\n",
    "\n",
    "def doKmeans(X, nclust):\n",
    "    model = KMeans(nclust)\n",
    "    model.fit(X)\n",
    "    clust_labels = model.predict(X)\n",
    "    cent = model.cluster_centers_\n",
    "    return (clust_labels, cent)\n",
    "\n",
    "clust_labels, cent = doKmeans(principalDf, 3)\n",
    "kmeans = pd.DataFrame(clust_labels)"
   ]
  },
  {
   "cell_type": "code",
   "execution_count": 6,
   "metadata": {},
   "outputs": [],
   "source": [
    "import numpy as np\n",
    "clusteringPCA = np.column_stack((kmeans, principalDf, df['risk_mortality']))"
   ]
  },
  {
   "cell_type": "code",
   "execution_count": 300,
   "metadata": {},
   "outputs": [
    {
     "data": {
      "text/plain": [
       "<matplotlib.colorbar.Colorbar at 0x1c59692a4e0>"
      ]
     },
     "execution_count": 300,
     "metadata": {},
     "output_type": "execute_result"
    },
    {
     "data": {
      "image/png": "[encoded data removed]",
      "text/plain": [
       "<Figure size 432x288 with 2 Axes>"
      ]
     },
     "metadata": {
      "needs_background": "light"
     },
     "output_type": "display_data"
    }
   ],
   "source": [
    "import matplotlib.pyplot as plt\n",
    "\n",
    "fig = plt.figure()\n",
    "ax = fig.add_subplot(111)\n",
    "scatter = ax.scatter(principalDf[0],\n",
    "                     principalDf[1],\n",
    "                     c=kmeans[0],\n",
    "                     s=50)\n",
    "ax.set_title('CLUSTERING')\n",
    "ax.set_xlabel('PRIMER COMPONENTE')\n",
    "ax.set_ylabel('SEGUNDO COMPONENTE')\n",
    "plt.colorbar(scatter)"
   ]
  },
  {
   "cell_type": "code",
   "execution_count": 7,
   "metadata": {},
   "outputs": [
    {
     "data": {
      "text/plain": [
       "{0: 37231, 1: 660939, 2: 76729}"
      ]
     },
     "execution_count": 7,
     "metadata": {},
     "output_type": "execute_result"
    }
   ],
   "source": [
    "import numpy as np\n",
    "unique, counts = np.unique(kmeans, return_counts=True)\n",
    "dict(zip(unique, counts))"
   ]
  },
  {
   "cell_type": "code",
   "execution_count": 8,
   "metadata": {},
   "outputs": [],
   "source": [
    "a = np.zeros((660939, 4))\n",
    "np.empty_like(a)\n",
    "for i in range(660939):\n",
    "    for j in range(0,4):\n",
    "        if(clusteringPCA[i][0] == 1):\n",
    "            a[i][j] = clusteringPCA[i][j]"
   ]
  },
  {
   "cell_type": "code",
   "execution_count": 9,
   "metadata": {},
   "outputs": [],
   "source": [
    "PCAclustering = pd.DataFrame(a, index=range(1, a.shape[0] + 1),\n",
    "                          columns=range(1, a.shape[1] + 1))"
   ]
  },
  {
   "cell_type": "code",
   "execution_count": 10,
   "metadata": {},
   "outputs": [
    {
     "data": {
      "text/html": [
       "<div>\n",
       "<style scoped>\n",
       "    .dataframe tbody tr th:only-of-type {\n",
       "        vertical-align: middle;\n",
       "    }\n",
       "\n",
       "    .dataframe tbody tr th {\n",
       "        vertical-align: top;\n",
       "    }\n",
       "\n",
       "    .dataframe thead th {\n",
       "        text-align: right;\n",
       "    }\n",
       "</style>\n",
       "<table border=\"1\" class=\"dataframe\">\n",
       "  <thead>\n",
       "    <tr style=\"text-align: right;\">\n",
       "      <th></th>\n",
       "      <th>1</th>\n",
       "      <th>2</th>\n",
       "      <th>3</th>\n",
       "      <th>4</th>\n",
       "    </tr>\n",
       "  </thead>\n",
       "  <tbody>\n",
       "    <tr>\n",
       "      <th>1</th>\n",
       "      <td>1.0</td>\n",
       "      <td>-0.26</td>\n",
       "      <td>-1.25</td>\n",
       "      <td>0.73</td>\n",
       "    </tr>\n",
       "    <tr>\n",
       "      <th>2</th>\n",
       "      <td>1.0</td>\n",
       "      <td>-0.24</td>\n",
       "      <td>-1.70</td>\n",
       "      <td>0.60</td>\n",
       "    </tr>\n",
       "    <tr>\n",
       "      <th>3</th>\n",
       "      <td>1.0</td>\n",
       "      <td>0.38</td>\n",
       "      <td>10.80</td>\n",
       "      <td>-1.29</td>\n",
       "    </tr>\n",
       "    <tr>\n",
       "      <th>4</th>\n",
       "      <td>1.0</td>\n",
       "      <td>-0.06</td>\n",
       "      <td>3.33</td>\n",
       "      <td>-0.07</td>\n",
       "    </tr>\n",
       "    <tr>\n",
       "      <th>5</th>\n",
       "      <td>1.0</td>\n",
       "      <td>-0.36</td>\n",
       "      <td>-1.32</td>\n",
       "      <td>0.83</td>\n",
       "    </tr>\n",
       "  </tbody>\n",
       "</table>\n",
       "</div>"
      ],
      "text/plain": [
       "     1     2      3     4\n",
       "1  1.0 -0.26  -1.25  0.73\n",
       "2  1.0 -0.24  -1.70  0.60\n",
       "3  1.0  0.38  10.80 -1.29\n",
       "4  1.0 -0.06   3.33 -0.07\n",
       "5  1.0 -0.36  -1.32  0.83"
      ]
     },
     "execution_count": 10,
     "metadata": {},
     "output_type": "execute_result"
    }
   ],
   "source": [
    "PCAclustering.head()"
   ]
  },
  {
   "cell_type": "code",
   "execution_count": 11,
   "metadata": {},
   "outputs": [],
   "source": [
    "clust_labels, cent = doKmeans(procesadoF, 3)\n",
    "kmeanss = pd.DataFrame(clust_labels)"
   ]
  },
  {
   "cell_type": "markdown",
   "metadata": {},
   "source": [
    "### Learning method."
   ]
  },
  {
   "cell_type": "code",
   "execution_count": 12,
   "metadata": {},
   "outputs": [],
   "source": [
    "# PREPARATION SEPARATION INPUT AND OUTPUT VARIABLES DATA PCA.\n",
    "\n",
    "XPCA = PCAclustering[[2,3]]\n",
    "YPCA = PCAclustering[4]"
   ]
  },
  {
   "cell_type": "code",
   "execution_count": 13,
   "metadata": {},
   "outputs": [],
   "source": [
    "# ANALYSIS WITH MULTI LINEAR REGRESSION.\n",
    "\n",
    "# PREPARATION SEPARATION INPUT AND OUTPUT VARIABLES.\n",
    "\n",
    "X = procesadoF[['ip_latitude','ip_longitude','ip_accuracy','age','height','weight','bmi','alcohol','cannabis','amphetamines',\n",
    "               'cocaine','lsd','mdma','contacts_count','house_count','public_transport_count','worried','rate_reducing_risk_single',\n",
    "               'rate_reducing_risk_single_social_distancing','rate_reducing_risk_single_washing_hands','rate_reducing_risk_house',\n",
    "               'rate_reducing_risk_house_social_distancing','rate_reducing_risk_house_washing_hands','rate_reducing_risk_single_sanitizer',\n",
    "               'rate_reducing_mask','rate_government_action','rate_government_control','rate_government_spend','covid19_symptoms',\n",
    "               'covid19_contact','asthma','kidney_disease','liver_disease','compromised_immune','heart_disease','lung_disease',\n",
    "               'diabetes','hiv_positive','hypertension','other_chronic','nursing_home','health_worker','opinion_infection',\n",
    "               'opinion_mortality','prescription_medication','region_AF','region_AS','region_EU','region_NorthA','region_OC','region_SA',\n",
    "               'region_none','sex_female','sex_male','sex_other','blood_type_abn','blood_type_abp','blood_type_an','blood_type_ap',\n",
    "               'blood_type_bn','blood_type_bp','blood_type_on','blood_type_op','blood_type_unknown','insurance_blank',\n",
    "               'insurance_no','insurance_none','insurance_yes','income_blank','income_gov','income_high','income_low',\n",
    "               'income_med','income_none','race_asian','race_black','race_blank',\n",
    "               'race_hispanic','race_mixed','race_none','race_other','race_white','immigrant_blank','immigrant_immigrant',\n",
    "               'immigrant_native','immigrant_none','smoking_never','smoking_none','smoking_quit0','smoking_quit10','smoking_quit5',\n",
    "               'smoking_vape','smoking_yesheavy','smoking_yeslight','smoking_yesmedium','working_home','working_never',\n",
    "               'working_none','working_stopped','working_travel critical','working_travel non critical',\n",
    "               'rate_reducing_mask_type_clothhome','rate_reducing_mask_type_clothstore','rate_reducing_mask_type_level1',\n",
    "               'rate_reducing_mask_type_level2','rate_reducing_mask_type_level3','rate_reducing_mask_type_na',\n",
    "               'rate_reducing_mask_type_none','rate_reducing_mask_type_surgical']]\n",
    "    \n",
    "Y1 = procesadoF['risk_mortality']\n",
    "\n",
    "Y2 = procesadoF['risk_infection']"
   ]
  },
  {
   "cell_type": "code",
   "execution_count": 14,
   "metadata": {},
   "outputs": [],
   "source": [
    "# SPLITING DATASET INTO TRAINENG SET AND TEST SET - PCA.\n",
    "\n",
    "from sklearn.model_selection import train_test_split \n",
    "\n",
    "X_train_pca, X_test_pca, y_train_pca, y_test_pca = train_test_split(XPCA, YPCA, test_size=0.2, random_state=0)"
   ]
  },
  {
   "cell_type": "code",
   "execution_count": 15,
   "metadata": {},
   "outputs": [],
   "source": [
    "# SPLITING DATASET INTO TRAINING SET AND TEST SET. \n",
    "\n",
    "X_train, X_test, y_train, y_test = train_test_split(X, Y1, test_size=0.2, random_state=0)"
   ]
  },
  {
   "cell_type": "markdown",
   "metadata": {},
   "source": [
    "### LINEAR REGRESSION. "
   ]
  },
  {
   "cell_type": "code",
   "execution_count": 16,
   "metadata": {},
   "outputs": [],
   "source": [
    "# LINEAR REGRESSION WITH PCA. \n",
    "\n",
    "from sklearn.linear_model import LinearRegression\n",
    "\n",
    "regressorPCA = LinearRegression()\n",
    "\n",
    "regressorPCA.fit(X_train_pca, y_train_pca);\n",
    "\n",
    "b = regressorPCA.intercept_\n",
    "\n",
    "m = regressorPCA.coef_"
   ]
  },
  {
   "cell_type": "code",
   "execution_count": 17,
   "metadata": {},
   "outputs": [
    {
     "data": {
      "text/html": [
       "<div>\n",
       "<style scoped>\n",
       "    .dataframe tbody tr th:only-of-type {\n",
       "        vertical-align: middle;\n",
       "    }\n",
       "\n",
       "    .dataframe tbody tr th {\n",
       "        vertical-align: top;\n",
       "    }\n",
       "\n",
       "    .dataframe thead th {\n",
       "        text-align: right;\n",
       "    }\n",
       "</style>\n",
       "<table border=\"1\" class=\"dataframe\">\n",
       "  <thead>\n",
       "    <tr style=\"text-align: right;\">\n",
       "      <th></th>\n",
       "      <th>Current</th>\n",
       "      <th>Predicted</th>\n",
       "    </tr>\n",
       "  </thead>\n",
       "  <tbody>\n",
       "    <tr>\n",
       "      <th>72368</th>\n",
       "      <td>0.00</td>\n",
       "      <td>0.301582</td>\n",
       "    </tr>\n",
       "    <tr>\n",
       "      <th>495978</th>\n",
       "      <td>-0.29</td>\n",
       "      <td>-0.264770</td>\n",
       "    </tr>\n",
       "    <tr>\n",
       "      <th>233820</th>\n",
       "      <td>-0.66</td>\n",
       "      <td>-0.420950</td>\n",
       "    </tr>\n",
       "    <tr>\n",
       "      <th>299503</th>\n",
       "      <td>0.09</td>\n",
       "      <td>0.177688</td>\n",
       "    </tr>\n",
       "    <tr>\n",
       "      <th>356239</th>\n",
       "      <td>-0.64</td>\n",
       "      <td>-0.262012</td>\n",
       "    </tr>\n",
       "  </tbody>\n",
       "</table>\n",
       "</div>"
      ],
      "text/plain": [
       "        Current  Predicted\n",
       "72368      0.00   0.301582\n",
       "495978    -0.29  -0.264770\n",
       "233820    -0.66  -0.420950\n",
       "299503     0.09   0.177688\n",
       "356239    -0.64  -0.262012"
      ]
     },
     "execution_count": 17,
     "metadata": {},
     "output_type": "execute_result"
    }
   ],
   "source": [
    "# PREDICTION WITH PCA. \n",
    "\n",
    "y_pred_pca = regressorPCA.predict(X_test_pca)\n",
    "\n",
    "# COMPARATIONS LINEAR REGRESSION WITH PCA. \n",
    "\n",
    "dff = pd.DataFrame({'Current': y_test_pca, 'Predicted': y_pred_pca})\n",
    "\n",
    "dff.head()"
   ]
  },
  {
   "cell_type": "code",
   "execution_count": 36,
   "metadata": {},
   "outputs": [
    {
     "name": "stdout",
     "output_type": "stream",
     "text": [
      "Mean Absolute Error:  0.5280835654213089\n",
      "Mean Squared Error: 0.5845671570438382\n",
      "Root Mean Squared Error: 0.7645699163868784\n"
     ]
    }
   ],
   "source": [
    "# EVALUATIONS LINEAR REGRESSION WITH PCA. \n",
    "\n",
    "from sklearn import metrics\n",
    "\n",
    "print('Mean Absolute Error: ', metrics.mean_absolute_error(y_test_pca, y_pred_pca))\n",
    "print('Mean Squared Error:', metrics.mean_squared_error(y_test_pca, y_pred_pca))  \n",
    "print('Root Mean Squared Error:', np.sqrt(metrics.mean_squared_error(y_test_pca, y_pred_pca)))  "
   ]
  },
  {
   "cell_type": "code",
   "execution_count": 37,
   "metadata": {},
   "outputs": [],
   "source": [
    "#LINEAR REGRESSION. \n",
    "\n",
    "regressor = LinearRegression()\n",
    "\n",
    "regressor.fit(X_train, y_train);\n",
    "\n",
    "b = regressor.intercept_\n",
    "\n",
    "m = regressor.coef_"
   ]
  },
  {
   "cell_type": "code",
   "execution_count": 38,
   "metadata": {},
   "outputs": [
    {
     "data": {
      "text/html": [
       "<div>\n",
       "<style scoped>\n",
       "    .dataframe tbody tr th:only-of-type {\n",
       "        vertical-align: middle;\n",
       "    }\n",
       "\n",
       "    .dataframe tbody tr th {\n",
       "        vertical-align: top;\n",
       "    }\n",
       "\n",
       "    .dataframe thead th {\n",
       "        text-align: right;\n",
       "    }\n",
       "</style>\n",
       "<table border=\"1\" class=\"dataframe\">\n",
       "  <thead>\n",
       "    <tr style=\"text-align: right;\">\n",
       "      <th></th>\n",
       "      <th>Current</th>\n",
       "      <th>Predicted</th>\n",
       "    </tr>\n",
       "  </thead>\n",
       "  <tbody>\n",
       "    <tr>\n",
       "      <th>607163</th>\n",
       "      <td>0.869829</td>\n",
       "      <td>0.828881</td>\n",
       "    </tr>\n",
       "    <tr>\n",
       "      <th>375782</th>\n",
       "      <td>-0.271398</td>\n",
       "      <td>0.152737</td>\n",
       "    </tr>\n",
       "    <tr>\n",
       "      <th>141081</th>\n",
       "      <td>-0.321067</td>\n",
       "      <td>-0.621181</td>\n",
       "    </tr>\n",
       "    <tr>\n",
       "      <th>691565</th>\n",
       "      <td>0.596073</td>\n",
       "      <td>0.237199</td>\n",
       "    </tr>\n",
       "    <tr>\n",
       "      <th>369439</th>\n",
       "      <td>-0.032295</td>\n",
       "      <td>-0.066224</td>\n",
       "    </tr>\n",
       "  </tbody>\n",
       "</table>\n",
       "</div>"
      ],
      "text/plain": [
       "         Current  Predicted\n",
       "607163  0.869829   0.828881\n",
       "375782 -0.271398   0.152737\n",
       "141081 -0.321067  -0.621181\n",
       "691565  0.596073   0.237199\n",
       "369439 -0.032295  -0.066224"
      ]
     },
     "execution_count": 38,
     "metadata": {},
     "output_type": "execute_result"
    }
   ],
   "source": [
    "# PREDICTIONS.\n",
    "\n",
    "y_pred = regressor.predict(X_test)\n",
    "\n",
    "# COMPARATIONS LINEAR REGRESSION. \n",
    "\n",
    "dff = pd.DataFrame({'Current': y_test, 'Predicted': y_pred})\n",
    "\n",
    "dff.head()"
   ]
  },
  {
   "cell_type": "code",
   "execution_count": 39,
   "metadata": {},
   "outputs": [
    {
     "name": "stdout",
     "output_type": "stream",
     "text": [
      "Mean Absolute Error:  0.32139239453078733\n",
      "Mean Squared Error: 0.6206963492585188\n",
      "Root Mean Squared Error: 0.7878428455336247\n"
     ]
    }
   ],
   "source": [
    "# EVALUATIONS LINEAR REGRESSION. \n",
    "\n",
    "from sklearn import metrics\n",
    "\n",
    "print('Mean Absolute Error: ', metrics.mean_absolute_error(y_test, y_pred))\n",
    "print('Mean Squared Error:', metrics.mean_squared_error(y_test, y_pred))  \n",
    "print('Root Mean Squared Error:', np.sqrt(metrics.mean_squared_error(y_test, y_pred)))  \n"
   ]
  },
  {
   "cell_type": "markdown",
   "metadata": {},
   "source": [
    "### BAYESIAN REGRESSION."
   ]
  },
  {
   "cell_type": "code",
   "execution_count": 40,
   "metadata": {},
   "outputs": [
    {
     "data": {
      "text/html": [
       "<div>\n",
       "<style scoped>\n",
       "    .dataframe tbody tr th:only-of-type {\n",
       "        vertical-align: middle;\n",
       "    }\n",
       "\n",
       "    .dataframe tbody tr th {\n",
       "        vertical-align: top;\n",
       "    }\n",
       "\n",
       "    .dataframe thead th {\n",
       "        text-align: right;\n",
       "    }\n",
       "</style>\n",
       "<table border=\"1\" class=\"dataframe\">\n",
       "  <thead>\n",
       "    <tr style=\"text-align: right;\">\n",
       "      <th></th>\n",
       "      <th>Current</th>\n",
       "      <th>Predicted</th>\n",
       "    </tr>\n",
       "  </thead>\n",
       "  <tbody>\n",
       "    <tr>\n",
       "      <th>569218</th>\n",
       "      <td>0.00</td>\n",
       "      <td>0.173593</td>\n",
       "    </tr>\n",
       "    <tr>\n",
       "      <th>485061</th>\n",
       "      <td>-0.76</td>\n",
       "      <td>-0.060145</td>\n",
       "    </tr>\n",
       "    <tr>\n",
       "      <th>548799</th>\n",
       "      <td>0.00</td>\n",
       "      <td>0.173593</td>\n",
       "    </tr>\n",
       "    <tr>\n",
       "      <th>273614</th>\n",
       "      <td>-0.15</td>\n",
       "      <td>0.061034</td>\n",
       "    </tr>\n",
       "    <tr>\n",
       "      <th>281183</th>\n",
       "      <td>-0.61</td>\n",
       "      <td>-0.336985</td>\n",
       "    </tr>\n",
       "  </tbody>\n",
       "</table>\n",
       "</div>"
      ],
      "text/plain": [
       "        Current  Predicted\n",
       "569218     0.00   0.173593\n",
       "485061    -0.76  -0.060145\n",
       "548799     0.00   0.173593\n",
       "273614    -0.15   0.061034\n",
       "281183    -0.61  -0.336985"
      ]
     },
     "execution_count": 40,
     "metadata": {},
     "output_type": "execute_result"
    }
   ],
   "source": [
    "# BAYESIAN REGRESSION WITH PCA. \n",
    "\n",
    "from sklearn import linear_model\n",
    "\n",
    "reg = linear_model.BayesianRidge(compute_score=True)\n",
    "\n",
    "reg.fit(X_train_pca, y_train_pca)\n",
    "\n",
    "# PREDICTIONS.\n",
    "\n",
    "y_pred_pca_bay = reg.predict(X_test_pca)\n",
    "\n",
    "# COMPARATIONS BAYESIAN REGRESSION. \n",
    "\n",
    "dfff = pd.DataFrame({'Current': y_test_pca, 'Predicted': y_pred_pca_bay})\n",
    "\n",
    "dfff.head()"
   ]
  },
  {
   "cell_type": "code",
   "execution_count": 42,
   "metadata": {},
   "outputs": [
    {
     "name": "stdout",
     "output_type": "stream",
     "text": [
      "Mean Absolute Error:  0.5280818505854986\n",
      "Mean Squared Error: 0.5845670354028061\n",
      "Root Mean Squared Error: 0.7645698368382093\n"
     ]
    }
   ],
   "source": [
    "# EVALUATIONS BAYESIAN REGRESSION WITH PCA.\n",
    "\n",
    "print('Mean Absolute Error: ', metrics.mean_absolute_error(y_test_pca, y_pred_pca_bay))\n",
    "print('Mean Squared Error:', metrics.mean_squared_error(y_test_pca, y_pred_pca_bay))  \n",
    "print('Root Mean Squared Error:', np.sqrt(metrics.mean_squared_error(y_test_pca, y_pred_pca_bay))) "
   ]
  },
  {
   "cell_type": "code",
   "execution_count": 43,
   "metadata": {},
   "outputs": [
    {
     "data": {
      "text/html": [
       "<div>\n",
       "<style scoped>\n",
       "    .dataframe tbody tr th:only-of-type {\n",
       "        vertical-align: middle;\n",
       "    }\n",
       "\n",
       "    .dataframe tbody tr th {\n",
       "        vertical-align: top;\n",
       "    }\n",
       "\n",
       "    .dataframe thead th {\n",
       "        text-align: right;\n",
       "    }\n",
       "</style>\n",
       "<table border=\"1\" class=\"dataframe\">\n",
       "  <thead>\n",
       "    <tr style=\"text-align: right;\">\n",
       "      <th></th>\n",
       "      <th>Current</th>\n",
       "      <th>Predicted</th>\n",
       "    </tr>\n",
       "  </thead>\n",
       "  <tbody>\n",
       "    <tr>\n",
       "      <th>607163</th>\n",
       "      <td>0.869829</td>\n",
       "      <td>0.828657</td>\n",
       "    </tr>\n",
       "    <tr>\n",
       "      <th>375782</th>\n",
       "      <td>-0.271398</td>\n",
       "      <td>0.152899</td>\n",
       "    </tr>\n",
       "    <tr>\n",
       "      <th>141081</th>\n",
       "      <td>-0.321067</td>\n",
       "      <td>-0.621366</td>\n",
       "    </tr>\n",
       "    <tr>\n",
       "      <th>691565</th>\n",
       "      <td>0.596073</td>\n",
       "      <td>0.237028</td>\n",
       "    </tr>\n",
       "    <tr>\n",
       "      <th>369439</th>\n",
       "      <td>-0.032295</td>\n",
       "      <td>-0.066438</td>\n",
       "    </tr>\n",
       "  </tbody>\n",
       "</table>\n",
       "</div>"
      ],
      "text/plain": [
       "         Current  Predicted\n",
       "607163  0.869829   0.828657\n",
       "375782 -0.271398   0.152899\n",
       "141081 -0.321067  -0.621366\n",
       "691565  0.596073   0.237028\n",
       "369439 -0.032295  -0.066438"
      ]
     },
     "execution_count": 43,
     "metadata": {},
     "output_type": "execute_result"
    }
   ],
   "source": [
    "# BAYESIAN REGRESSION. \n",
    "\n",
    "reg = linear_model.BayesianRidge()\n",
    "\n",
    "reg.fit(X_train, y_train)\n",
    "\n",
    "# PREDICTIONS.\n",
    "\n",
    "y_pred_b = reg.predict(X_test)\n",
    "\n",
    "# COMPARATIONS BAYESIAN REGRESSION. \n",
    "\n",
    "dfff = pd.DataFrame({'Current': y_test, 'Predicted': y_pred_b})\n",
    "\n",
    "dfff.head()"
   ]
  },
  {
   "cell_type": "code",
   "execution_count": 44,
   "metadata": {},
   "outputs": [
    {
     "name": "stdout",
     "output_type": "stream",
     "text": [
      "Mean Absolute Error:  0.3212883884975776\n",
      "Mean Squared Error: 0.6206704579308248\n",
      "Root Mean Squared Error: 0.7878264135777784\n"
     ]
    }
   ],
   "source": [
    "# EVALUATIONS BAYESIAN REGRESSION.\n",
    "\n",
    "print('Mean Absolute Error: ', metrics.mean_absolute_error(y_test, y_pred_b))\n",
    "print('Mean Squared Error:', metrics.mean_squared_error(y_test, y_pred_b))  \n",
    "print('Root Mean Squared Error:', np.sqrt(metrics.mean_squared_error(y_test, y_pred_b))) "
   ]
  },
  {
   "cell_type": "markdown",
   "metadata": {},
   "source": [
    "### POLYNOMIAL REGRESSION."
   ]
  },
  {
   "cell_type": "code",
   "execution_count": 47,
   "metadata": {},
   "outputs": [],
   "source": [
    "from sklearn.preprocessing import PolynomialFeatures\n",
    "\n",
    "poli_reg = PolynomialFeatures(degree = 2)\n",
    "\n",
    "X_train_pca_poli = poli_reg.fit_transform(X_train_pca)\n",
    "\n",
    "X_test_pca_poli = poli_reg.fit_transform(X_test_pca)\n",
    "\n",
    "pr_pca = linear_model.LinearRegression()\n",
    "\n",
    "# PREDICTIONS. \n",
    "\n",
    "pr_pca.fit(X_train_pca_poli, y_train_pca)\n",
    "\n",
    "Y_pred_pr_pca = pr_pca.predict(X_test_pca_poli)"
   ]
  },
  {
   "cell_type": "code",
   "execution_count": 48,
   "metadata": {},
   "outputs": [
    {
     "data": {
      "text/html": [
       "<div>\n",
       "<style scoped>\n",
       "    .dataframe tbody tr th:only-of-type {\n",
       "        vertical-align: middle;\n",
       "    }\n",
       "\n",
       "    .dataframe tbody tr th {\n",
       "        vertical-align: top;\n",
       "    }\n",
       "\n",
       "    .dataframe thead th {\n",
       "        text-align: right;\n",
       "    }\n",
       "</style>\n",
       "<table border=\"1\" class=\"dataframe\">\n",
       "  <thead>\n",
       "    <tr style=\"text-align: right;\">\n",
       "      <th></th>\n",
       "      <th>Current</th>\n",
       "      <th>Predicted</th>\n",
       "    </tr>\n",
       "  </thead>\n",
       "  <tbody>\n",
       "    <tr>\n",
       "      <th>569218</th>\n",
       "      <td>0.00</td>\n",
       "      <td>0.171211</td>\n",
       "    </tr>\n",
       "    <tr>\n",
       "      <th>485061</th>\n",
       "      <td>-0.76</td>\n",
       "      <td>-0.048374</td>\n",
       "    </tr>\n",
       "    <tr>\n",
       "      <th>548799</th>\n",
       "      <td>0.00</td>\n",
       "      <td>0.171211</td>\n",
       "    </tr>\n",
       "    <tr>\n",
       "      <th>273614</th>\n",
       "      <td>-0.15</td>\n",
       "      <td>0.059224</td>\n",
       "    </tr>\n",
       "    <tr>\n",
       "      <th>281183</th>\n",
       "      <td>-0.61</td>\n",
       "      <td>-0.336577</td>\n",
       "    </tr>\n",
       "  </tbody>\n",
       "</table>\n",
       "</div>"
      ],
      "text/plain": [
       "        Current  Predicted\n",
       "569218     0.00   0.171211\n",
       "485061    -0.76  -0.048374\n",
       "548799     0.00   0.171211\n",
       "273614    -0.15   0.059224\n",
       "281183    -0.61  -0.336577"
      ]
     },
     "execution_count": 48,
     "metadata": {},
     "output_type": "execute_result"
    }
   ],
   "source": [
    "# COMPARATIONS POLYNOMIAL REGRESSION WITH PCA. \n",
    "\n",
    "dfff = pd.DataFrame({'Current': y_test_pca, 'Predicted': Y_pred_pr_pca})\n",
    "\n",
    "dfff.head()"
   ]
  },
  {
   "cell_type": "code",
   "execution_count": 50,
   "metadata": {},
   "outputs": [
    {
     "name": "stdout",
     "output_type": "stream",
     "text": [
      "Mean Absolute Error:  0.5279194765051536\n",
      "Mean Squared Error: 0.5849320177119691\n",
      "Root Mean Squared Error: 0.7648084843357643\n"
     ]
    }
   ],
   "source": [
    "# EVALUATIONS POLYNOMIAL REGRESSION WITH PCA.\n",
    "\n",
    "print('Mean Absolute Error: ', metrics.mean_absolute_error(y_test_pca, Y_pred_pr_pca))\n",
    "print('Mean Squared Error:', metrics.mean_squared_error(y_test_pca, Y_pred_pr_pca))  \n",
    "print('Root Mean Squared Error:', np.sqrt(metrics.mean_squared_error(y_test_pca, Y_pred_pr_pca)))"
   ]
  },
  {
   "cell_type": "code",
   "execution_count": 52,
   "metadata": {},
   "outputs": [],
   "source": [
    "# POLYNOMIAL REGRESSION. \n",
    "\n",
    "poli_reg = PolynomialFeatures(degree = 2)\n",
    "\n",
    "X_train_poli = poli_reg.fit_transform(X_train)\n",
    "\n",
    "X_test_poli = poli_reg.fit_transform(X_test)\n",
    "\n",
    "pr = linear_model.LinearRegression()\n",
    "\n",
    "# PREDICTIONS. \n",
    "\n",
    "pr.fit(X_train_poli, y_train)\n",
    "\n",
    "Y_pred_pr = pr.predict(X_test_poli)"
   ]
  },
  {
   "cell_type": "code",
   "execution_count": 53,
   "metadata": {},
   "outputs": [
    {
     "data": {
      "text/html": [
       "<div>\n",
       "<style scoped>\n",
       "    .dataframe tbody tr th:only-of-type {\n",
       "        vertical-align: middle;\n",
       "    }\n",
       "\n",
       "    .dataframe tbody tr th {\n",
       "        vertical-align: top;\n",
       "    }\n",
       "\n",
       "    .dataframe thead th {\n",
       "        text-align: right;\n",
       "    }\n",
       "</style>\n",
       "<table border=\"1\" class=\"dataframe\">\n",
       "  <thead>\n",
       "    <tr style=\"text-align: right;\">\n",
       "      <th></th>\n",
       "      <th>Current</th>\n",
       "      <th>Predicted</th>\n",
       "    </tr>\n",
       "  </thead>\n",
       "  <tbody>\n",
       "    <tr>\n",
       "      <th>607163</th>\n",
       "      <td>0.869829</td>\n",
       "      <td>0.828899</td>\n",
       "    </tr>\n",
       "    <tr>\n",
       "      <th>375782</th>\n",
       "      <td>-0.271398</td>\n",
       "      <td>0.152695</td>\n",
       "    </tr>\n",
       "    <tr>\n",
       "      <th>141081</th>\n",
       "      <td>-0.321067</td>\n",
       "      <td>-0.621216</td>\n",
       "    </tr>\n",
       "    <tr>\n",
       "      <th>691565</th>\n",
       "      <td>0.596073</td>\n",
       "      <td>0.237221</td>\n",
       "    </tr>\n",
       "    <tr>\n",
       "      <th>369439</th>\n",
       "      <td>-0.032295</td>\n",
       "      <td>-0.066242</td>\n",
       "    </tr>\n",
       "  </tbody>\n",
       "</table>\n",
       "</div>"
      ],
      "text/plain": [
       "         Current  Predicted\n",
       "607163  0.869829   0.828899\n",
       "375782 -0.271398   0.152695\n",
       "141081 -0.321067  -0.621216\n",
       "691565  0.596073   0.237221\n",
       "369439 -0.032295  -0.066242"
      ]
     },
     "execution_count": 53,
     "metadata": {},
     "output_type": "execute_result"
    }
   ],
   "source": [
    "# COMPARATIONS POLYNOMIAL REGRESSION. \n",
    "\n",
    "dfff = pd.DataFrame({'Current': y_test, 'Predicted': Y_pred_pr})\n",
    "\n",
    "dfff.head()"
   ]
  },
  {
   "cell_type": "code",
   "execution_count": 54,
   "metadata": {},
   "outputs": [
    {
     "name": "stdout",
     "output_type": "stream",
     "text": [
      "Mean Absolute Error:  0.3213936164469987\n",
      "Mean Squared Error: 0.6206961949532946\n",
      "Root Mean Squared Error: 0.787842747604682\n"
     ]
    }
   ],
   "source": [
    "# EVALUATIONS POLYNOMIAL REGRESSION.\n",
    "\n",
    "print('Mean Absolute Error: ', metrics.mean_absolute_error(y_test, Y_pred_pr))\n",
    "print('Mean Squared Error:', metrics.mean_squared_error(y_test, Y_pred_pr))  \n",
    "print('Root Mean Squared Error:', np.sqrt(metrics.mean_squared_error(y_test, Y_pred_pr)))"
   ]
  },
  {
   "cell_type": "markdown",
   "metadata": {},
   "source": [
    "### VISUALIZATION. "
   ]
  },
  {
   "cell_type": "code",
   "execution_count": 203,
   "metadata": {},
   "outputs": [],
   "source": [
    "# DESCRIPTIVE STATISTICS.\n",
    "\n",
    "diseases = procesadoF[['kidney_disease','liver_disease','compromised_immune','heart_disease','lung_disease',\n",
    "                       'diabetes','hiv_positive','hypertension','asthma','other_chronic','covid19_symptoms',\n",
    "                       'risk_infection','risk_mortality']]\n",
    "\n",
    "personalConditions = procesadoF[['age','height','weight','bmi','contacts_count','house_count','public_transport_count',\n",
    "                                 'worried','rate_reducing_risk_single_washing_hands','rate_reducing_risk_house',\n",
    "                                 'rate_reducing_risk_house_social_distancing','risk_infection','risk_mortality']]\n",
    "\n",
    "psychotropicSubstances = procesadoF[['alcohol','cannabis','amphetamines','cocaine','lsd','mdma','risk_infection',\n",
    "                                     'risk_mortality']]"
   ]
  },
  {
   "cell_type": "code",
   "execution_count": 68,
   "metadata": {},
   "outputs": [
    {
     "data": {
      "text/html": [
       "<div>\n",
       "<style scoped>\n",
       "    .dataframe tbody tr th:only-of-type {\n",
       "        vertical-align: middle;\n",
       "    }\n",
       "\n",
       "    .dataframe tbody tr th {\n",
       "        vertical-align: top;\n",
       "    }\n",
       "\n",
       "    .dataframe thead th {\n",
       "        text-align: right;\n",
       "    }\n",
       "</style>\n",
       "<table border=\"1\" class=\"dataframe\">\n",
       "  <thead>\n",
       "    <tr style=\"text-align: right;\">\n",
       "      <th></th>\n",
       "      <th>kidney_disease</th>\n",
       "      <th>liver_disease</th>\n",
       "      <th>compromised_immune</th>\n",
       "      <th>heart_disease</th>\n",
       "      <th>lung_disease</th>\n",
       "      <th>diabetes</th>\n",
       "      <th>hiv_positive</th>\n",
       "      <th>hypertension</th>\n",
       "      <th>asthma</th>\n",
       "      <th>other_chronic</th>\n",
       "      <th>covid19_symptoms</th>\n",
       "      <th>risk_infection</th>\n",
       "      <th>risk_mortality</th>\n",
       "    </tr>\n",
       "  </thead>\n",
       "  <tbody>\n",
       "    <tr>\n",
       "      <th>0</th>\n",
       "      <td>-0.05773</td>\n",
       "      <td>-0.028114</td>\n",
       "      <td>-0.252744</td>\n",
       "      <td>-0.13023</td>\n",
       "      <td>-0.116002</td>\n",
       "      <td>-0.252698</td>\n",
       "      <td>-0.058022</td>\n",
       "      <td>-0.391038</td>\n",
       "      <td>-0.432993</td>\n",
       "      <td>-0.285841</td>\n",
       "      <td>-0.128984</td>\n",
       "      <td>-0.443420</td>\n",
       "      <td>-0.321067</td>\n",
       "    </tr>\n",
       "    <tr>\n",
       "      <th>1</th>\n",
       "      <td>-0.05773</td>\n",
       "      <td>-0.028114</td>\n",
       "      <td>-0.252744</td>\n",
       "      <td>-0.13023</td>\n",
       "      <td>-0.116002</td>\n",
       "      <td>-0.252698</td>\n",
       "      <td>-0.058022</td>\n",
       "      <td>-0.391038</td>\n",
       "      <td>-0.432993</td>\n",
       "      <td>-0.285841</td>\n",
       "      <td>-0.128984</td>\n",
       "      <td>-0.443420</td>\n",
       "      <td>-0.321067</td>\n",
       "    </tr>\n",
       "    <tr>\n",
       "      <th>2</th>\n",
       "      <td>-0.05773</td>\n",
       "      <td>-0.028114</td>\n",
       "      <td>3.956573</td>\n",
       "      <td>-0.13023</td>\n",
       "      <td>8.620519</td>\n",
       "      <td>3.957296</td>\n",
       "      <td>-0.058022</td>\n",
       "      <td>2.557296</td>\n",
       "      <td>-0.432993</td>\n",
       "      <td>-0.285841</td>\n",
       "      <td>-0.128984</td>\n",
       "      <td>0.055077</td>\n",
       "      <td>16.602126</td>\n",
       "    </tr>\n",
       "    <tr>\n",
       "      <th>3</th>\n",
       "      <td>-0.05773</td>\n",
       "      <td>-0.028114</td>\n",
       "      <td>-0.252744</td>\n",
       "      <td>-0.13023</td>\n",
       "      <td>-0.116002</td>\n",
       "      <td>3.957296</td>\n",
       "      <td>-0.058022</td>\n",
       "      <td>2.557296</td>\n",
       "      <td>-0.432993</td>\n",
       "      <td>-0.285841</td>\n",
       "      <td>-0.128984</td>\n",
       "      <td>-0.372206</td>\n",
       "      <td>2.220127</td>\n",
       "    </tr>\n",
       "    <tr>\n",
       "      <th>4</th>\n",
       "      <td>-0.05773</td>\n",
       "      <td>-0.028114</td>\n",
       "      <td>-0.252744</td>\n",
       "      <td>-0.13023</td>\n",
       "      <td>-0.116002</td>\n",
       "      <td>-0.252698</td>\n",
       "      <td>-0.058022</td>\n",
       "      <td>-0.391038</td>\n",
       "      <td>-0.432993</td>\n",
       "      <td>-0.285841</td>\n",
       "      <td>-0.128984</td>\n",
       "      <td>-0.443420</td>\n",
       "      <td>-0.321067</td>\n",
       "    </tr>\n",
       "  </tbody>\n",
       "</table>\n",
       "</div>"
      ],
      "text/plain": [
       "   kidney_disease  liver_disease  compromised_immune  heart_disease  \\\n",
       "0        -0.05773      -0.028114           -0.252744       -0.13023   \n",
       "1        -0.05773      -0.028114           -0.252744       -0.13023   \n",
       "2        -0.05773      -0.028114            3.956573       -0.13023   \n",
       "3        -0.05773      -0.028114           -0.252744       -0.13023   \n",
       "4        -0.05773      -0.028114           -0.252744       -0.13023   \n",
       "\n",
       "   lung_disease  diabetes  hiv_positive  hypertension    asthma  \\\n",
       "0     -0.116002 -0.252698     -0.058022     -0.391038 -0.432993   \n",
       "1     -0.116002 -0.252698     -0.058022     -0.391038 -0.432993   \n",
       "2      8.620519  3.957296     -0.058022      2.557296 -0.432993   \n",
       "3     -0.116002  3.957296     -0.058022      2.557296 -0.432993   \n",
       "4     -0.116002 -0.252698     -0.058022     -0.391038 -0.432993   \n",
       "\n",
       "   other_chronic  covid19_symptoms  risk_infection  risk_mortality  \n",
       "0      -0.285841         -0.128984       -0.443420       -0.321067  \n",
       "1      -0.285841         -0.128984       -0.443420       -0.321067  \n",
       "2      -0.285841         -0.128984        0.055077       16.602126  \n",
       "3      -0.285841         -0.128984       -0.372206        2.220127  \n",
       "4      -0.285841         -0.128984       -0.443420       -0.321067  "
      ]
     },
     "execution_count": 68,
     "metadata": {},
     "output_type": "execute_result"
    }
   ],
   "source": [
    "diseases.head()"
   ]
  },
  {
   "cell_type": "code",
   "execution_count": 70,
   "metadata": {},
   "outputs": [
    {
     "data": {
      "text/html": [
       "<div>\n",
       "<style scoped>\n",
       "    .dataframe tbody tr th:only-of-type {\n",
       "        vertical-align: middle;\n",
       "    }\n",
       "\n",
       "    .dataframe tbody tr th {\n",
       "        vertical-align: top;\n",
       "    }\n",
       "\n",
       "    .dataframe thead th {\n",
       "        text-align: right;\n",
       "    }\n",
       "</style>\n",
       "<table border=\"1\" class=\"dataframe\">\n",
       "  <thead>\n",
       "    <tr style=\"text-align: right;\">\n",
       "      <th></th>\n",
       "      <th>age</th>\n",
       "      <th>height</th>\n",
       "      <th>weight</th>\n",
       "      <th>bmi</th>\n",
       "      <th>contacts_count</th>\n",
       "      <th>house_count</th>\n",
       "      <th>public_transport_count</th>\n",
       "      <th>worried</th>\n",
       "      <th>rate_reducing_risk_single_washing_hands</th>\n",
       "      <th>rate_reducing_risk_house</th>\n",
       "      <th>rate_reducing_risk_house_social_distancing</th>\n",
       "      <th>risk_infection</th>\n",
       "      <th>risk_mortality</th>\n",
       "    </tr>\n",
       "  </thead>\n",
       "  <tbody>\n",
       "    <tr>\n",
       "      <th>0</th>\n",
       "      <td>-1.008454</td>\n",
       "      <td>0.781974</td>\n",
       "      <td>0.102804</td>\n",
       "      <td>-0.256596</td>\n",
       "      <td>-1.085394</td>\n",
       "      <td>0.553484</td>\n",
       "      <td>-0.042835</td>\n",
       "      <td>-0.343284</td>\n",
       "      <td>-0.305303</td>\n",
       "      <td>-1.135681</td>\n",
       "      <td>-0.266378</td>\n",
       "      <td>-0.443420</td>\n",
       "      <td>-0.321067</td>\n",
       "    </tr>\n",
       "    <tr>\n",
       "      <th>1</th>\n",
       "      <td>-0.279476</td>\n",
       "      <td>-1.025002</td>\n",
       "      <td>-1.303942</td>\n",
       "      <td>-1.026278</td>\n",
       "      <td>-1.085394</td>\n",
       "      <td>-0.744490</td>\n",
       "      <td>-0.042835</td>\n",
       "      <td>-0.343284</td>\n",
       "      <td>-0.305303</td>\n",
       "      <td>-1.135681</td>\n",
       "      <td>-0.266378</td>\n",
       "      <td>-0.443420</td>\n",
       "      <td>-0.321067</td>\n",
       "    </tr>\n",
       "    <tr>\n",
       "      <th>2</th>\n",
       "      <td>3.365416</td>\n",
       "      <td>1.324067</td>\n",
       "      <td>0.351053</td>\n",
       "      <td>-0.256596</td>\n",
       "      <td>-1.085394</td>\n",
       "      <td>0.553484</td>\n",
       "      <td>-0.042835</td>\n",
       "      <td>-0.343284</td>\n",
       "      <td>-0.305303</td>\n",
       "      <td>-1.135681</td>\n",
       "      <td>-0.266378</td>\n",
       "      <td>0.055077</td>\n",
       "      <td>16.602126</td>\n",
       "    </tr>\n",
       "    <tr>\n",
       "      <th>3</th>\n",
       "      <td>1.907459</td>\n",
       "      <td>0.239881</td>\n",
       "      <td>0.433803</td>\n",
       "      <td>0.336438</td>\n",
       "      <td>-1.085394</td>\n",
       "      <td>1.202471</td>\n",
       "      <td>-0.042835</td>\n",
       "      <td>-0.343284</td>\n",
       "      <td>-0.305303</td>\n",
       "      <td>-1.135681</td>\n",
       "      <td>-0.266378</td>\n",
       "      <td>-0.372206</td>\n",
       "      <td>2.220127</td>\n",
       "    </tr>\n",
       "    <tr>\n",
       "      <th>4</th>\n",
       "      <td>-0.279476</td>\n",
       "      <td>-0.302212</td>\n",
       "      <td>-0.641944</td>\n",
       "      <td>-0.546804</td>\n",
       "      <td>-1.085394</td>\n",
       "      <td>2.500444</td>\n",
       "      <td>-0.042835</td>\n",
       "      <td>-0.343284</td>\n",
       "      <td>-0.305303</td>\n",
       "      <td>-1.135681</td>\n",
       "      <td>-0.266378</td>\n",
       "      <td>-0.443420</td>\n",
       "      <td>-0.321067</td>\n",
       "    </tr>\n",
       "  </tbody>\n",
       "</table>\n",
       "</div>"
      ],
      "text/plain": [
       "        age    height    weight       bmi  contacts_count  house_count  \\\n",
       "0 -1.008454  0.781974  0.102804 -0.256596       -1.085394     0.553484   \n",
       "1 -0.279476 -1.025002 -1.303942 -1.026278       -1.085394    -0.744490   \n",
       "2  3.365416  1.324067  0.351053 -0.256596       -1.085394     0.553484   \n",
       "3  1.907459  0.239881  0.433803  0.336438       -1.085394     1.202471   \n",
       "4 -0.279476 -0.302212 -0.641944 -0.546804       -1.085394     2.500444   \n",
       "\n",
       "   public_transport_count   worried  rate_reducing_risk_single_washing_hands  \\\n",
       "0               -0.042835 -0.343284                                -0.305303   \n",
       "1               -0.042835 -0.343284                                -0.305303   \n",
       "2               -0.042835 -0.343284                                -0.305303   \n",
       "3               -0.042835 -0.343284                                -0.305303   \n",
       "4               -0.042835 -0.343284                                -0.305303   \n",
       "\n",
       "   rate_reducing_risk_house  rate_reducing_risk_house_social_distancing  \\\n",
       "0                 -1.135681                                   -0.266378   \n",
       "1                 -1.135681                                   -0.266378   \n",
       "2                 -1.135681                                   -0.266378   \n",
       "3                 -1.135681                                   -0.266378   \n",
       "4                 -1.135681                                   -0.266378   \n",
       "\n",
       "   risk_infection  risk_mortality  \n",
       "0       -0.443420       -0.321067  \n",
       "1       -0.443420       -0.321067  \n",
       "2        0.055077       16.602126  \n",
       "3       -0.372206        2.220127  \n",
       "4       -0.443420       -0.321067  "
      ]
     },
     "execution_count": 70,
     "metadata": {},
     "output_type": "execute_result"
    }
   ],
   "source": [
    "personalConditions.head()"
   ]
  },
  {
   "cell_type": "code",
   "execution_count": 70,
   "metadata": {},
   "outputs": [
    {
     "data": {
      "text/html": [
       "<div>\n",
       "<style scoped>\n",
       "    .dataframe tbody tr th:only-of-type {\n",
       "        vertical-align: middle;\n",
       "    }\n",
       "\n",
       "    .dataframe tbody tr th {\n",
       "        vertical-align: top;\n",
       "    }\n",
       "\n",
       "    .dataframe thead th {\n",
       "        text-align: right;\n",
       "    }\n",
       "</style>\n",
       "<table border=\"1\" class=\"dataframe\">\n",
       "  <thead>\n",
       "    <tr style=\"text-align: right;\">\n",
       "      <th></th>\n",
       "      <th>alcohol</th>\n",
       "      <th>cannabis</th>\n",
       "      <th>amphetamines</th>\n",
       "      <th>cocaine</th>\n",
       "      <th>lsd</th>\n",
       "      <th>mdma</th>\n",
       "      <th>risk_infection</th>\n",
       "      <th>risk_mortality</th>\n",
       "    </tr>\n",
       "  </thead>\n",
       "  <tbody>\n",
       "    <tr>\n",
       "      <th>0</th>\n",
       "      <td>-0.658953</td>\n",
       "      <td>-0.28881</td>\n",
       "      <td>0.35251</td>\n",
       "      <td>0.736181</td>\n",
       "      <td>1.28979</td>\n",
       "      <td>1.317813</td>\n",
       "      <td>-0.443420</td>\n",
       "      <td>-0.321067</td>\n",
       "    </tr>\n",
       "    <tr>\n",
       "      <th>1</th>\n",
       "      <td>-0.658953</td>\n",
       "      <td>-0.28881</td>\n",
       "      <td>0.35251</td>\n",
       "      <td>0.736181</td>\n",
       "      <td>1.28979</td>\n",
       "      <td>1.317813</td>\n",
       "      <td>-0.443420</td>\n",
       "      <td>-0.321067</td>\n",
       "    </tr>\n",
       "    <tr>\n",
       "      <th>2</th>\n",
       "      <td>-0.658953</td>\n",
       "      <td>-0.28881</td>\n",
       "      <td>0.35251</td>\n",
       "      <td>0.736181</td>\n",
       "      <td>1.28979</td>\n",
       "      <td>1.317813</td>\n",
       "      <td>0.055077</td>\n",
       "      <td>16.602126</td>\n",
       "    </tr>\n",
       "    <tr>\n",
       "      <th>3</th>\n",
       "      <td>-0.658953</td>\n",
       "      <td>-0.28881</td>\n",
       "      <td>0.35251</td>\n",
       "      <td>0.736181</td>\n",
       "      <td>1.28979</td>\n",
       "      <td>1.317813</td>\n",
       "      <td>-0.372206</td>\n",
       "      <td>2.220127</td>\n",
       "    </tr>\n",
       "    <tr>\n",
       "      <th>4</th>\n",
       "      <td>-0.658953</td>\n",
       "      <td>-0.28881</td>\n",
       "      <td>0.35251</td>\n",
       "      <td>0.736181</td>\n",
       "      <td>1.28979</td>\n",
       "      <td>1.317813</td>\n",
       "      <td>-0.443420</td>\n",
       "      <td>-0.321067</td>\n",
       "    </tr>\n",
       "  </tbody>\n",
       "</table>\n",
       "</div>"
      ],
      "text/plain": [
       "    alcohol  cannabis  amphetamines   cocaine      lsd      mdma  \\\n",
       "0 -0.658953  -0.28881       0.35251  0.736181  1.28979  1.317813   \n",
       "1 -0.658953  -0.28881       0.35251  0.736181  1.28979  1.317813   \n",
       "2 -0.658953  -0.28881       0.35251  0.736181  1.28979  1.317813   \n",
       "3 -0.658953  -0.28881       0.35251  0.736181  1.28979  1.317813   \n",
       "4 -0.658953  -0.28881       0.35251  0.736181  1.28979  1.317813   \n",
       "\n",
       "   risk_infection  risk_mortality  \n",
       "0       -0.443420       -0.321067  \n",
       "1       -0.443420       -0.321067  \n",
       "2        0.055077       16.602126  \n",
       "3       -0.372206        2.220127  \n",
       "4       -0.443420       -0.321067  "
      ]
     },
     "execution_count": 70,
     "metadata": {},
     "output_type": "execute_result"
    }
   ],
   "source": [
    "psychotropicSubstances.head()"
   ]
  },
  {
   "cell_type": "code",
   "execution_count": 26,
   "metadata": {},
   "outputs": [
    {
     "data": {
      "text/plain": [
       "array([[ 1.  , -0.26, -1.25,  0.74],\n",
       "       [ 1.  , -0.24, -1.7 ,  0.61],\n",
       "       [ 1.  , -0.06,  3.33, -0.07]])"
      ]
     },
     "execution_count": 26,
     "metadata": {},
     "output_type": "execute_result"
    }
   ],
   "source": [
    "# EVALUATE CORRELATIONS.\n",
    "\n",
    "correlationDiseases = diseases.corr()\n",
    "\n",
    "correlationDiseases\n",
    "\n",
    "a[[0, 1, 3], :]"
   ]
  },
  {
   "cell_type": "code",
   "execution_count": 83,
   "metadata": {},
   "outputs": [
    {
     "data": {
      "text/plain": [
       "<matplotlib.axes._subplots.AxesSubplot at 0x265136ab6d8>"
      ]
     },
     "execution_count": 83,
     "metadata": {},
     "output_type": "execute_result"
    },
    {
     "data": {
      "image/png": "[encoded data removed]",
      "text/plain": [
       "<Figure size 720x576 with 2 Axes>"
      ]
     },
     "metadata": {
      "needs_background": "light"
     },
     "output_type": "display_data"
    }
   ],
   "source": [
    "import seaborn as sb\n",
    "\n",
    "f, ax = plt.subplots(figsize=(10, 8))\n",
    "sb.heatmap(correlationDiseases, mask=np.zeros_like(correlationDiseases, dtype=np.bool), cmap=sb.diverging_palette(220, 10, as_cmap=True),\n",
    "           square=True, ax=ax)"
   ]
  },
  {
   "cell_type": "code",
   "execution_count": 73,
   "metadata": {},
   "outputs": [
    {
     "data": {
      "text/html": [
       "<div>\n",
       "<style scoped>\n",
       "    .dataframe tbody tr th:only-of-type {\n",
       "        vertical-align: middle;\n",
       "    }\n",
       "\n",
       "    .dataframe tbody tr th {\n",
       "        vertical-align: top;\n",
       "    }\n",
       "\n",
       "    .dataframe thead th {\n",
       "        text-align: right;\n",
       "    }\n",
       "</style>\n",
       "<table border=\"1\" class=\"dataframe\">\n",
       "  <thead>\n",
       "    <tr style=\"text-align: right;\">\n",
       "      <th></th>\n",
       "      <th>age</th>\n",
       "      <th>height</th>\n",
       "      <th>weight</th>\n",
       "      <th>bmi</th>\n",
       "      <th>contacts_count</th>\n",
       "      <th>house_count</th>\n",
       "      <th>public_transport_count</th>\n",
       "      <th>worried</th>\n",
       "      <th>rate_reducing_risk_single_washing_hands</th>\n",
       "      <th>rate_reducing_risk_house</th>\n",
       "      <th>rate_reducing_risk_house_social_distancing</th>\n",
       "      <th>risk_infection</th>\n",
       "      <th>risk_mortality</th>\n",
       "    </tr>\n",
       "  </thead>\n",
       "  <tbody>\n",
       "    <tr>\n",
       "      <th>age</th>\n",
       "      <td>1.000000</td>\n",
       "      <td>0.069047</td>\n",
       "      <td>0.002310</td>\n",
       "      <td>-0.024136</td>\n",
       "      <td>-0.478280</td>\n",
       "      <td>-0.455416</td>\n",
       "      <td>-0.148406</td>\n",
       "      <td>0.001282</td>\n",
       "      <td>-0.015523</td>\n",
       "      <td>-0.022939</td>\n",
       "      <td>-0.007028</td>\n",
       "      <td>-0.266634</td>\n",
       "      <td>0.744984</td>\n",
       "    </tr>\n",
       "    <tr>\n",
       "      <th>height</th>\n",
       "      <td>0.069047</td>\n",
       "      <td>1.000000</td>\n",
       "      <td>0.345564</td>\n",
       "      <td>-0.058345</td>\n",
       "      <td>-0.136641</td>\n",
       "      <td>-0.239488</td>\n",
       "      <td>-0.142775</td>\n",
       "      <td>-0.130878</td>\n",
       "      <td>-0.134884</td>\n",
       "      <td>0.020198</td>\n",
       "      <td>-0.126718</td>\n",
       "      <td>-0.139371</td>\n",
       "      <td>0.007862</td>\n",
       "    </tr>\n",
       "    <tr>\n",
       "      <th>weight</th>\n",
       "      <td>0.002310</td>\n",
       "      <td>0.345564</td>\n",
       "      <td>1.000000</td>\n",
       "      <td>0.916576</td>\n",
       "      <td>-0.085584</td>\n",
       "      <td>-0.145554</td>\n",
       "      <td>-0.230261</td>\n",
       "      <td>-0.296206</td>\n",
       "      <td>-0.303639</td>\n",
       "      <td>0.034616</td>\n",
       "      <td>-0.294890</td>\n",
       "      <td>-0.159420</td>\n",
       "      <td>0.040190</td>\n",
       "    </tr>\n",
       "    <tr>\n",
       "      <th>bmi</th>\n",
       "      <td>-0.024136</td>\n",
       "      <td>-0.058345</td>\n",
       "      <td>0.916576</td>\n",
       "      <td>1.000000</td>\n",
       "      <td>-0.034522</td>\n",
       "      <td>-0.055619</td>\n",
       "      <td>-0.184394</td>\n",
       "      <td>-0.259345</td>\n",
       "      <td>-0.265576</td>\n",
       "      <td>0.028029</td>\n",
       "      <td>-0.259734</td>\n",
       "      <td>-0.111434</td>\n",
       "      <td>0.040351</td>\n",
       "    </tr>\n",
       "    <tr>\n",
       "      <th>contacts_count</th>\n",
       "      <td>-0.478280</td>\n",
       "      <td>-0.136641</td>\n",
       "      <td>-0.085584</td>\n",
       "      <td>-0.034522</td>\n",
       "      <td>1.000000</td>\n",
       "      <td>0.351586</td>\n",
       "      <td>-0.049824</td>\n",
       "      <td>-0.234231</td>\n",
       "      <td>-0.233031</td>\n",
       "      <td>-0.105964</td>\n",
       "      <td>-0.252546</td>\n",
       "      <td>0.506921</td>\n",
       "      <td>-0.353751</td>\n",
       "    </tr>\n",
       "    <tr>\n",
       "      <th>house_count</th>\n",
       "      <td>-0.455416</td>\n",
       "      <td>-0.239488</td>\n",
       "      <td>-0.145554</td>\n",
       "      <td>-0.055619</td>\n",
       "      <td>0.351586</td>\n",
       "      <td>1.000000</td>\n",
       "      <td>-0.096527</td>\n",
       "      <td>-0.223041</td>\n",
       "      <td>-0.219223</td>\n",
       "      <td>0.022947</td>\n",
       "      <td>-0.218350</td>\n",
       "      <td>0.052635</td>\n",
       "      <td>-0.313370</td>\n",
       "    </tr>\n",
       "    <tr>\n",
       "      <th>public_transport_count</th>\n",
       "      <td>-0.148406</td>\n",
       "      <td>-0.142775</td>\n",
       "      <td>-0.230261</td>\n",
       "      <td>-0.184394</td>\n",
       "      <td>-0.049824</td>\n",
       "      <td>-0.096527</td>\n",
       "      <td>1.000000</td>\n",
       "      <td>0.075581</td>\n",
       "      <td>0.054282</td>\n",
       "      <td>-0.151552</td>\n",
       "      <td>0.026847</td>\n",
       "      <td>0.006468</td>\n",
       "      <td>-0.118782</td>\n",
       "    </tr>\n",
       "    <tr>\n",
       "      <th>worried</th>\n",
       "      <td>0.001282</td>\n",
       "      <td>-0.130878</td>\n",
       "      <td>-0.296206</td>\n",
       "      <td>-0.259345</td>\n",
       "      <td>-0.234231</td>\n",
       "      <td>-0.223041</td>\n",
       "      <td>0.075581</td>\n",
       "      <td>1.000000</td>\n",
       "      <td>0.991499</td>\n",
       "      <td>-0.745108</td>\n",
       "      <td>0.968913</td>\n",
       "      <td>-0.135133</td>\n",
       "      <td>-0.108436</td>\n",
       "    </tr>\n",
       "    <tr>\n",
       "      <th>rate_reducing_risk_single_washing_hands</th>\n",
       "      <td>-0.015523</td>\n",
       "      <td>-0.134884</td>\n",
       "      <td>-0.303639</td>\n",
       "      <td>-0.265576</td>\n",
       "      <td>-0.233031</td>\n",
       "      <td>-0.219223</td>\n",
       "      <td>0.054282</td>\n",
       "      <td>0.991499</td>\n",
       "      <td>1.000000</td>\n",
       "      <td>-0.720147</td>\n",
       "      <td>0.975455</td>\n",
       "      <td>-0.141224</td>\n",
       "      <td>-0.130606</td>\n",
       "    </tr>\n",
       "    <tr>\n",
       "      <th>rate_reducing_risk_house</th>\n",
       "      <td>-0.022939</td>\n",
       "      <td>0.020198</td>\n",
       "      <td>0.034616</td>\n",
       "      <td>0.028029</td>\n",
       "      <td>-0.105964</td>\n",
       "      <td>0.022947</td>\n",
       "      <td>-0.151552</td>\n",
       "      <td>-0.745108</td>\n",
       "      <td>-0.720147</td>\n",
       "      <td>1.000000</td>\n",
       "      <td>-0.698281</td>\n",
       "      <td>-0.135193</td>\n",
       "      <td>-0.033806</td>\n",
       "    </tr>\n",
       "    <tr>\n",
       "      <th>rate_reducing_risk_house_social_distancing</th>\n",
       "      <td>-0.007028</td>\n",
       "      <td>-0.126718</td>\n",
       "      <td>-0.294890</td>\n",
       "      <td>-0.259734</td>\n",
       "      <td>-0.252546</td>\n",
       "      <td>-0.218350</td>\n",
       "      <td>0.026847</td>\n",
       "      <td>0.968913</td>\n",
       "      <td>0.975455</td>\n",
       "      <td>-0.698281</td>\n",
       "      <td>1.000000</td>\n",
       "      <td>-0.161939</td>\n",
       "      <td>-0.123511</td>\n",
       "    </tr>\n",
       "    <tr>\n",
       "      <th>risk_infection</th>\n",
       "      <td>-0.266634</td>\n",
       "      <td>-0.139371</td>\n",
       "      <td>-0.159420</td>\n",
       "      <td>-0.111434</td>\n",
       "      <td>0.506921</td>\n",
       "      <td>0.052635</td>\n",
       "      <td>0.006468</td>\n",
       "      <td>-0.135133</td>\n",
       "      <td>-0.141224</td>\n",
       "      <td>-0.135193</td>\n",
       "      <td>-0.161939</td>\n",
       "      <td>1.000000</td>\n",
       "      <td>-0.154467</td>\n",
       "    </tr>\n",
       "    <tr>\n",
       "      <th>risk_mortality</th>\n",
       "      <td>0.744984</td>\n",
       "      <td>0.007862</td>\n",
       "      <td>0.040190</td>\n",
       "      <td>0.040351</td>\n",
       "      <td>-0.353751</td>\n",
       "      <td>-0.313370</td>\n",
       "      <td>-0.118782</td>\n",
       "      <td>-0.108436</td>\n",
       "      <td>-0.130606</td>\n",
       "      <td>-0.033806</td>\n",
       "      <td>-0.123511</td>\n",
       "      <td>-0.154467</td>\n",
       "      <td>1.000000</td>\n",
       "    </tr>\n",
       "  </tbody>\n",
       "</table>\n",
       "</div>"
      ],
      "text/plain": [
       "                                                 age    height    weight  \\\n",
       "age                                         1.000000  0.069047  0.002310   \n",
       "height                                      0.069047  1.000000  0.345564   \n",
       "weight                                      0.002310  0.345564  1.000000   \n",
       "bmi                                        -0.024136 -0.058345  0.916576   \n",
       "contacts_count                             -0.478280 -0.136641 -0.085584   \n",
       "house_count                                -0.455416 -0.239488 -0.145554   \n",
       "public_transport_count                     -0.148406 -0.142775 -0.230261   \n",
       "worried                                     0.001282 -0.130878 -0.296206   \n",
       "rate_reducing_risk_single_washing_hands    -0.015523 -0.134884 -0.303639   \n",
       "rate_reducing_risk_house                   -0.022939  0.020198  0.034616   \n",
       "rate_reducing_risk_house_social_distancing -0.007028 -0.126718 -0.294890   \n",
       "risk_infection                             -0.266634 -0.139371 -0.159420   \n",
       "risk_mortality                              0.744984  0.007862  0.040190   \n",
       "\n",
       "                                                 bmi  contacts_count  \\\n",
       "age                                        -0.024136       -0.478280   \n",
       "height                                     -0.058345       -0.136641   \n",
       "weight                                      0.916576       -0.085584   \n",
       "bmi                                         1.000000       -0.034522   \n",
       "contacts_count                             -0.034522        1.000000   \n",
       "house_count                                -0.055619        0.351586   \n",
       "public_transport_count                     -0.184394       -0.049824   \n",
       "worried                                    -0.259345       -0.234231   \n",
       "rate_reducing_risk_single_washing_hands    -0.265576       -0.233031   \n",
       "rate_reducing_risk_house                    0.028029       -0.105964   \n",
       "rate_reducing_risk_house_social_distancing -0.259734       -0.252546   \n",
       "risk_infection                             -0.111434        0.506921   \n",
       "risk_mortality                              0.040351       -0.353751   \n",
       "\n",
       "                                            house_count  \\\n",
       "age                                           -0.455416   \n",
       "height                                        -0.239488   \n",
       "weight                                        -0.145554   \n",
       "bmi                                           -0.055619   \n",
       "contacts_count                                 0.351586   \n",
       "house_count                                    1.000000   \n",
       "public_transport_count                        -0.096527   \n",
       "worried                                       -0.223041   \n",
       "rate_reducing_risk_single_washing_hands       -0.219223   \n",
       "rate_reducing_risk_house                       0.022947   \n",
       "rate_reducing_risk_house_social_distancing    -0.218350   \n",
       "risk_infection                                 0.052635   \n",
       "risk_mortality                                -0.313370   \n",
       "\n",
       "                                            public_transport_count   worried  \\\n",
       "age                                                      -0.148406  0.001282   \n",
       "height                                                   -0.142775 -0.130878   \n",
       "weight                                                   -0.230261 -0.296206   \n",
       "bmi                                                      -0.184394 -0.259345   \n",
       "contacts_count                                           -0.049824 -0.234231   \n",
       "house_count                                              -0.096527 -0.223041   \n",
       "public_transport_count                                    1.000000  0.075581   \n",
       "worried                                                   0.075581  1.000000   \n",
       "rate_reducing_risk_single_washing_hands                   0.054282  0.991499   \n",
       "rate_reducing_risk_house                                 -0.151552 -0.745108   \n",
       "rate_reducing_risk_house_social_distancing                0.026847  0.968913   \n",
       "risk_infection                                            0.006468 -0.135133   \n",
       "risk_mortality                                           -0.118782 -0.108436   \n",
       "\n",
       "                                            rate_reducing_risk_single_washing_hands  \\\n",
       "age                                                                       -0.015523   \n",
       "height                                                                    -0.134884   \n",
       "weight                                                                    -0.303639   \n",
       "bmi                                                                       -0.265576   \n",
       "contacts_count                                                            -0.233031   \n",
       "house_count                                                               -0.219223   \n",
       "public_transport_count                                                     0.054282   \n",
       "worried                                                                    0.991499   \n",
       "rate_reducing_risk_single_washing_hands                                    1.000000   \n",
       "rate_reducing_risk_house                                                  -0.720147   \n",
       "rate_reducing_risk_house_social_distancing                                 0.975455   \n",
       "risk_infection                                                            -0.141224   \n",
       "risk_mortality                                                            -0.130606   \n",
       "\n",
       "                                            rate_reducing_risk_house  \\\n",
       "age                                                        -0.022939   \n",
       "height                                                      0.020198   \n",
       "weight                                                      0.034616   \n",
       "bmi                                                         0.028029   \n",
       "contacts_count                                             -0.105964   \n",
       "house_count                                                 0.022947   \n",
       "public_transport_count                                     -0.151552   \n",
       "worried                                                    -0.745108   \n",
       "rate_reducing_risk_single_washing_hands                    -0.720147   \n",
       "rate_reducing_risk_house                                    1.000000   \n",
       "rate_reducing_risk_house_social_distancing                 -0.698281   \n",
       "risk_infection                                             -0.135193   \n",
       "risk_mortality                                             -0.033806   \n",
       "\n",
       "                                            rate_reducing_risk_house_social_distancing  \\\n",
       "age                                                                          -0.007028   \n",
       "height                                                                       -0.126718   \n",
       "weight                                                                       -0.294890   \n",
       "bmi                                                                          -0.259734   \n",
       "contacts_count                                                               -0.252546   \n",
       "house_count                                                                  -0.218350   \n",
       "public_transport_count                                                        0.026847   \n",
       "worried                                                                       0.968913   \n",
       "rate_reducing_risk_single_washing_hands                                       0.975455   \n",
       "rate_reducing_risk_house                                                     -0.698281   \n",
       "rate_reducing_risk_house_social_distancing                                    1.000000   \n",
       "risk_infection                                                               -0.161939   \n",
       "risk_mortality                                                               -0.123511   \n",
       "\n",
       "                                            risk_infection  risk_mortality  \n",
       "age                                              -0.266634        0.744984  \n",
       "height                                           -0.139371        0.007862  \n",
       "weight                                           -0.159420        0.040190  \n",
       "bmi                                              -0.111434        0.040351  \n",
       "contacts_count                                    0.506921       -0.353751  \n",
       "house_count                                       0.052635       -0.313370  \n",
       "public_transport_count                            0.006468       -0.118782  \n",
       "worried                                          -0.135133       -0.108436  \n",
       "rate_reducing_risk_single_washing_hands          -0.141224       -0.130606  \n",
       "rate_reducing_risk_house                         -0.135193       -0.033806  \n",
       "rate_reducing_risk_house_social_distancing       -0.161939       -0.123511  \n",
       "risk_infection                                    1.000000       -0.154467  \n",
       "risk_mortality                                   -0.154467        1.000000  "
      ]
     },
     "execution_count": 73,
     "metadata": {},
     "output_type": "execute_result"
    }
   ],
   "source": [
    "personalConditions = personalConditions.corr()\n",
    "\n",
    "personalConditions"
   ]
  },
  {
   "cell_type": "code",
   "execution_count": 76,
   "metadata": {},
   "outputs": [
    {
     "data": {
      "text/plain": [
       "<matplotlib.axes._subplots.AxesSubplot at 0x1f94a1daac8>"
      ]
     },
     "execution_count": 76,
     "metadata": {},
     "output_type": "execute_result"
    },
    {
     "data": {
      "image/png": "[encoded data removed]",
      "text/plain": [
       "<Figure size 720x576 with 2 Axes>"
      ]
     },
     "metadata": {
      "needs_background": "light"
     },
     "output_type": "display_data"
    }
   ],
   "source": [
    "import seaborn as sb\n",
    "import numpy as np\n",
    "f, ax = plt.subplots(figsize=(10, 8))\n",
    "sb.heatmap(personalConditions, mask=np.zeros_like(personalConditions, dtype=np.bool), cmap=sb.diverging_palette(220, 10, as_cmap=True),\n",
    "           square=True, ax=ax)"
   ]
  },
  {
   "cell_type": "code",
   "execution_count": 86,
   "metadata": {},
   "outputs": [
    {
     "data": {
      "text/html": [
       "<div>\n",
       "<style scoped>\n",
       "    .dataframe tbody tr th:only-of-type {\n",
       "        vertical-align: middle;\n",
       "    }\n",
       "\n",
       "    .dataframe tbody tr th {\n",
       "        vertical-align: top;\n",
       "    }\n",
       "\n",
       "    .dataframe thead th {\n",
       "        text-align: right;\n",
       "    }\n",
       "</style>\n",
       "<table border=\"1\" class=\"dataframe\">\n",
       "  <thead>\n",
       "    <tr style=\"text-align: right;\">\n",
       "      <th></th>\n",
       "      <th>alcohol</th>\n",
       "      <th>cannabis</th>\n",
       "      <th>amphetamines</th>\n",
       "      <th>cocaine</th>\n",
       "      <th>lsd</th>\n",
       "      <th>mdma</th>\n",
       "      <th>risk_infection</th>\n",
       "      <th>risk_mortality</th>\n",
       "    </tr>\n",
       "  </thead>\n",
       "  <tbody>\n",
       "    <tr>\n",
       "      <th>alcohol</th>\n",
       "      <td>1.000000</td>\n",
       "      <td>0.072116</td>\n",
       "      <td>0.037952</td>\n",
       "      <td>0.109942</td>\n",
       "      <td>0.095362</td>\n",
       "      <td>0.104568</td>\n",
       "      <td>-0.009868</td>\n",
       "      <td>0.013282</td>\n",
       "    </tr>\n",
       "    <tr>\n",
       "      <th>cannabis</th>\n",
       "      <td>0.072116</td>\n",
       "      <td>1.000000</td>\n",
       "      <td>0.076118</td>\n",
       "      <td>0.153752</td>\n",
       "      <td>0.180440</td>\n",
       "      <td>0.165854</td>\n",
       "      <td>-0.013167</td>\n",
       "      <td>-0.039851</td>\n",
       "    </tr>\n",
       "    <tr>\n",
       "      <th>amphetamines</th>\n",
       "      <td>0.037952</td>\n",
       "      <td>0.076118</td>\n",
       "      <td>1.000000</td>\n",
       "      <td>0.193962</td>\n",
       "      <td>0.217821</td>\n",
       "      <td>0.227918</td>\n",
       "      <td>0.022395</td>\n",
       "      <td>0.022141</td>\n",
       "    </tr>\n",
       "    <tr>\n",
       "      <th>cocaine</th>\n",
       "      <td>0.109942</td>\n",
       "      <td>0.153752</td>\n",
       "      <td>0.193962</td>\n",
       "      <td>1.000000</td>\n",
       "      <td>0.452367</td>\n",
       "      <td>0.487872</td>\n",
       "      <td>0.022933</td>\n",
       "      <td>0.046965</td>\n",
       "    </tr>\n",
       "    <tr>\n",
       "      <th>lsd</th>\n",
       "      <td>0.095362</td>\n",
       "      <td>0.180440</td>\n",
       "      <td>0.217821</td>\n",
       "      <td>0.452367</td>\n",
       "      <td>1.000000</td>\n",
       "      <td>0.687885</td>\n",
       "      <td>0.027026</td>\n",
       "      <td>0.060797</td>\n",
       "    </tr>\n",
       "    <tr>\n",
       "      <th>mdma</th>\n",
       "      <td>0.104568</td>\n",
       "      <td>0.165854</td>\n",
       "      <td>0.227918</td>\n",
       "      <td>0.487872</td>\n",
       "      <td>0.687885</td>\n",
       "      <td>1.000000</td>\n",
       "      <td>0.030974</td>\n",
       "      <td>0.052170</td>\n",
       "    </tr>\n",
       "    <tr>\n",
       "      <th>risk_infection</th>\n",
       "      <td>-0.009868</td>\n",
       "      <td>-0.013167</td>\n",
       "      <td>0.022395</td>\n",
       "      <td>0.022933</td>\n",
       "      <td>0.027026</td>\n",
       "      <td>0.030974</td>\n",
       "      <td>1.000000</td>\n",
       "      <td>0.040420</td>\n",
       "    </tr>\n",
       "    <tr>\n",
       "      <th>risk_mortality</th>\n",
       "      <td>0.013282</td>\n",
       "      <td>-0.039851</td>\n",
       "      <td>0.022141</td>\n",
       "      <td>0.046965</td>\n",
       "      <td>0.060797</td>\n",
       "      <td>0.052170</td>\n",
       "      <td>0.040420</td>\n",
       "      <td>1.000000</td>\n",
       "    </tr>\n",
       "  </tbody>\n",
       "</table>\n",
       "</div>"
      ],
      "text/plain": [
       "                 alcohol  cannabis  amphetamines   cocaine       lsd  \\\n",
       "alcohol         1.000000  0.072116      0.037952  0.109942  0.095362   \n",
       "cannabis        0.072116  1.000000      0.076118  0.153752  0.180440   \n",
       "amphetamines    0.037952  0.076118      1.000000  0.193962  0.217821   \n",
       "cocaine         0.109942  0.153752      0.193962  1.000000  0.452367   \n",
       "lsd             0.095362  0.180440      0.217821  0.452367  1.000000   \n",
       "mdma            0.104568  0.165854      0.227918  0.487872  0.687885   \n",
       "risk_infection -0.009868 -0.013167      0.022395  0.022933  0.027026   \n",
       "risk_mortality  0.013282 -0.039851      0.022141  0.046965  0.060797   \n",
       "\n",
       "                    mdma  risk_infection  risk_mortality  \n",
       "alcohol         0.104568       -0.009868        0.013282  \n",
       "cannabis        0.165854       -0.013167       -0.039851  \n",
       "amphetamines    0.227918        0.022395        0.022141  \n",
       "cocaine         0.487872        0.022933        0.046965  \n",
       "lsd             0.687885        0.027026        0.060797  \n",
       "mdma            1.000000        0.030974        0.052170  \n",
       "risk_infection  0.030974        1.000000        0.040420  \n",
       "risk_mortality  0.052170        0.040420        1.000000  "
      ]
     },
     "execution_count": 86,
     "metadata": {},
     "output_type": "execute_result"
    }
   ],
   "source": [
    "psychotropicSubstances = psychotropicSubstances.corr()\n",
    "\n",
    "psychotropicSubstances"
   ]
  },
  {
   "cell_type": "code",
   "execution_count": 87,
   "metadata": {},
   "outputs": [
    {
     "data": {
      "text/plain": [
       "<matplotlib.axes._subplots.AxesSubplot at 0x26542d60668>"
      ]
     },
     "execution_count": 87,
     "metadata": {},
     "output_type": "execute_result"
    },
    {
     "data": {
      "image/png": "[encoded data removed]",
      "text/plain": [
       "<Figure size 720x576 with 2 Axes>"
      ]
     },
     "metadata": {
      "needs_background": "light"
     },
     "output_type": "display_data"
    }
   ],
   "source": [
    "f, ax = plt.subplots(figsize=(10, 8))\n",
    "sb.heatmap(psychotropicSubstances, mask=np.zeros_like(psychotropicSubstances, dtype=np.bool), cmap=sb.diverging_palette(220, 10, as_cmap=True),\n",
    "           square=True, ax=ax)"
   ]
  },
  {
   "cell_type": "code",
   "execution_count": 5,
   "metadata": {},
   "outputs": [],
   "source": [
    "dfn = df.to_numpy()"
   ]
  },
  {
   "cell_type": "code",
   "execution_count": 6,
   "metadata": {},
   "outputs": [],
   "source": [
    "splits = dfn[:,49]  # -> Diabetes\n",
    "splits2 = dfn[:,59] # -> Risk Mortality\n",
    "splits3 = dfn[:,47] # -> Heart\n",
    "splits4 = dfn[:,51] # -> Hypertension\n",
    "splits5 = dfn[:,7]  # -> age\n",
    "splits6 = dfn[:,9]  # -> weight\n",
    "splits7 = dfn[:,10] # -> bmi\n",
    "splits8 = dfn[:,30] # -> washing hands\n",
    "splits9 = dfn[:,31] # -> house\n",
    "splits10 = dfn[:,29]# -> social distancing"
   ]
  },
  {
   "cell_type": "code",
   "execution_count": 8,
   "metadata": {},
   "outputs": [],
   "source": [
    "import numpy as np\n",
    "enfermedades = np.column_stack((splits, splits2)) # -> Riesgo segun diabetes. "
   ]
  },
  {
   "cell_type": "code",
   "execution_count": 9,
   "metadata": {},
   "outputs": [],
   "source": [
    "enfermedades2 = np.column_stack((splits3, splits2)) # -> Riesgo segun Heart. "
   ]
  },
  {
   "cell_type": "code",
   "execution_count": 10,
   "metadata": {},
   "outputs": [],
   "source": [
    "enfermedades3 = np.column_stack((splits4, splits2)) # -> Riesgo segun hypertension. "
   ]
  },
  {
   "cell_type": "code",
   "execution_count": 11,
   "metadata": {},
   "outputs": [],
   "source": [
    "auxiliar = 0\n",
    "for i in range(774899):\n",
    "    for j in range(0,1):\n",
    "        if(enfermedades[i][0] == 1):\n",
    "            auxiliar = auxiliar + enfermedades[i][1]\n",
    "meanMortalityXdiabetes = auxiliar / 774899"
   ]
  },
  {
   "cell_type": "code",
   "execution_count": 12,
   "metadata": {},
   "outputs": [],
   "source": [
    "auxiliar2 = 0\n",
    "for i in range(774899):\n",
    "    for j in range(0,1):\n",
    "        if(enfermedades2[i][0] == 1):\n",
    "            auxiliar2 = auxiliar2 + enfermedades2[i][1]\n",
    "meanMortalityXheart = auxiliar2 / 774899"
   ]
  },
  {
   "cell_type": "code",
   "execution_count": 13,
   "metadata": {},
   "outputs": [],
   "source": [
    "auxiliar3 = 0\n",
    "for i in range(774899):\n",
    "    for j in range(0,1):\n",
    "        if(enfermedades3[i][0] == 1):\n",
    "            auxiliar3 = auxiliar3 + enfermedades3[i][1]\n",
    "meanMortalityXhypertension = auxiliar3 / 774899"
   ]
  },
  {
   "cell_type": "code",
   "execution_count": 14,
   "metadata": {},
   "outputs": [
    {
     "name": "stdout",
     "output_type": "stream",
     "text": [
      "Diabetes=  0.07838422813811972  Heart=  0.03589503793397535  Hypertension=  0.10429823241482739\n"
     ]
    }
   ],
   "source": [
    "print(\"Diabetes= \",meanMortalityXdiabetes,\" Heart= \",meanMortalityXheart,\" Hypertension= \",meanMortalityXhypertension)"
   ]
  },
  {
   "cell_type": "code",
   "execution_count": 19,
   "metadata": {},
   "outputs": [
    {
     "data": {
      "image/png": "[encoded data removed]",
      "text/plain": [
       "<Figure size 432x288 with 1 Axes>"
      ]
     },
     "metadata": {
      "needs_background": "light"
     },
     "output_type": "display_data"
    }
   ],
   "source": [
    "import matplotlib.pyplot as plt\n",
    "enfermedades = [\"Diabetes\", \"Enfermedades de Corazon\", \"Hipertension\"]\n",
    "valores = [0.0783,0.0358,0.1042]\n",
    "colores = [\"cornflowerblue\",\"royalblue\",\"mediumblue\"]\n",
    "plt.title(\"Promedio de Mortalidad por Enfermedad\")\n",
    "plt.bar(enfermedades, height= valores, color=colores, width=0.5)\n",
    "plt.ylabel(\"Promedio - Riesgo de Mortalidad\")\n",
    "plt.show()"
   ]
  },
  {
   "cell_type": "code",
   "execution_count": 20,
   "metadata": {},
   "outputs": [],
   "source": [
    "condicionAge = np.column_stack((splits5, splits2))\n",
    "condicionWeight = np.column_stack((splits6, splits2))\n",
    "condicionBmi = np.column_stack((splits7, splits2))\n",
    "condicionWashingHands = np.column_stack((splits8, splits2))\n",
    "condicionHouse = np.column_stack((splits9, splits2))\n",
    "condicionSocialDistancing = np.column_stack((splits10, splits2))"
   ]
  },
  {
   "cell_type": "code",
   "execution_count": 21,
   "metadata": {},
   "outputs": [],
   "source": [
    "auxiliarAge = 0\n",
    "for i in range(774899):\n",
    "    for j in range(0,1):\n",
    "        if(condicionAge[i][0] >= 7):\n",
    "            auxiliarAge = auxiliarAge + condicionAge[i][1]\n",
    "meanMortalityXAge = auxiliarAge / 774899"
   ]
  },
  {
   "cell_type": "code",
   "execution_count": 22,
   "metadata": {},
   "outputs": [],
   "source": [
    "auxiliarWeight = 0\n",
    "for i in range(774899):\n",
    "    for j in range(0,1):\n",
    "        if(condicionWeight[i][0] >= 90):\n",
    "            auxiliarWeight = auxiliarWeight + condicionWeight[i][1]\n",
    "meanMortalityXWeight = auxiliarWeight / 774899"
   ]
  },
  {
   "cell_type": "code",
   "execution_count": 23,
   "metadata": {},
   "outputs": [],
   "source": [
    "auxiliarBmi = 0\n",
    "for i in range(774899):\n",
    "    for j in range(0,1):\n",
    "        if(condicionBmi[i][0] >= 25):\n",
    "            auxiliarBmi = auxiliarBmi + condicionBmi[i][1]\n",
    "meanMortalityXBmi = auxiliarBmi / 774899"
   ]
  },
  {
   "cell_type": "code",
   "execution_count": 24,
   "metadata": {},
   "outputs": [],
   "source": [
    "auxiliarWashingHands = 0\n",
    "for i in range(774899):\n",
    "    for j in range(0,1):\n",
    "        if(condicionWashingHands[i][0] <= 0):\n",
    "            auxiliarWashingHands = auxiliarWashingHands + condicionWashingHands[i][1]\n",
    "meanMortalityXWashingHands = auxiliarWashingHands / 774899"
   ]
  },
  {
   "cell_type": "code",
   "execution_count": 25,
   "metadata": {},
   "outputs": [],
   "source": [
    "auxiliarHouse = 0\n",
    "for i in range(774899):\n",
    "    for j in range(0,1):\n",
    "        if(condicionHouse[i][0] <= 0):\n",
    "            auxiliarHouse = auxiliarHouse + condicionHouse[i][1]\n",
    "meanMortalityXHouse = auxiliarHouse / 774899"
   ]
  },
  {
   "cell_type": "code",
   "execution_count": 26,
   "metadata": {},
   "outputs": [],
   "source": [
    "auxiliarSocialDistancing = 0\n",
    "for i in range(774899):\n",
    "    for j in range(0,1):\n",
    "        if(condicionSocialDistancing[i][1] >= 1):\n",
    "            auxiliarSocialDistancing = auxiliarSocialDistancing + condicionSocialDistancing[i][1]\n",
    "meanMortalityXSocialDistancing = auxiliarSocialDistancing / 774899"
   ]
  },
  {
   "cell_type": "code",
   "execution_count": 27,
   "metadata": {},
   "outputs": [
    {
     "data": {
      "text/plain": [
       "Text(0, 0.5, 'Promedio - Riesgo de Mortalidad')"
      ]
     },
     "execution_count": 27,
     "metadata": {},
     "output_type": "execute_result"
    },
    {
     "data": {
      "image/png": "[encoded data removed]",
      "text/plain": [
       "<Figure size 432x288 with 1 Axes>"
      ]
     },
     "metadata": {
      "needs_background": "light"
     },
     "output_type": "display_data"
    }
   ],
   "source": [
    "caracteristicasPersonales = [\"Edad\",\"Peso\",\"Bmi\",\"L. Manos\",\"D. Social\"]\n",
    "valoresPersonales = [meanMortalityXAge,meanMortalityXWeight,meanMortalityXBmi,meanMortalityXWashingHands,\n",
    "                     meanMortalityXSocialDistancing]\n",
    "colores = [\"cornflowerblue\",\"royalblue\",\"mediumblue\",\"darkblue\",\"lavender\"]\n",
    "plt.title(\"Promedio de Mortalidad por Caracteristicas Inherentes\")\n",
    "plt.bar(caracteristicasPersonales, height= valoresPersonales, color=colores, width=0.5)\n",
    "plt.ylabel(\"Promedio - Riesgo de Mortalidad\")"
   ]
  },
  {
   "cell_type": "markdown",
   "metadata": {},
   "source": [
    "### GRAFICA DE ERRORES."
   ]
  },
  {
   "cell_type": "code",
   "execution_count": 28,
   "metadata": {},
   "outputs": [
    {
     "data": {
      "image/png": "[encoded data removed]",
      "text/plain": [
       "<Figure size 432x288 with 1 Axes>"
      ]
     },
     "metadata": {
      "needs_background": "light"
     },
     "output_type": "display_data"
    }
   ],
   "source": [
    "regresion = ['R. Bayesiana','R. Lineal','R. Polinomial']\n",
    "con_pca = [0.114, 0.113, 0.105]\n",
    "sin_pca = [0.32128,0.32139, 0.32139]\n",
    "\n",
    "#Obtenemos la posicion de cada etiqueta en el eje de X\n",
    "x = np.arange(len(regresion))\n",
    "#tamaño de cada barra\n",
    "width = 0.35\n",
    "\n",
    "fig, ax = plt.subplots()\n",
    "\n",
    "#Generamos las barras para el conjunto de hombres\n",
    "rects1 = ax.bar(x - width/2, con_pca, width, label='PCA',color=\"royalblue\")\n",
    "#Generamos las barras para el conjunto de mujeres\n",
    "rects2 = ax.bar(x + width/2, sin_pca, width, label='Normal',color=\"mediumblue\")\n",
    "\n",
    "#Añadimos las etiquetas de identificacion de valores en el grafico\n",
    "ax.set_ylabel('MAE')\n",
    "ax.set_title('Comparación Error Regresiones con PCA')\n",
    "ax.set_xticks(x)\n",
    "ax.set_xticklabels(regresion)\n",
    "#Añadimos un legen() esto permite mmostrar con colores a que pertence cada valor.\n",
    "#ax.legend()\n",
    "\n",
    "def autolabel(rects):\n",
    "    \"\"\"Funcion para agregar una etiqueta con el valor en cada barra\"\"\"\n",
    "    for rect in rects:\n",
    "        height = rect.get_height()\n",
    "        ax.annotate('{}'.format(height),\n",
    "                    xy=(rect.get_x() + rect.get_width() / 2, height),\n",
    "                    xytext=(0, 0),\n",
    "                    textcoords=\"offset points\",\n",
    "                    ha='center', va='bottom')\n",
    "autolabel(rects1)\n",
    "autolabel(rects2)\n",
    "fig.tight_layout()\n",
    "plt.show()"
   ]
  }
 ],
 "metadata": {
  "kernelspec": {
   "display_name": "Python 3",
   "language": "python",
   "name": "python3"
  },
  "language_info": {
   "codemirror_mode": {
    "name": "ipython",
    "version": 3
   },
   "file_extension": ".py",
   "mimetype": "text/x-python",
   "name": "python",
   "nbconvert_exporter": "python",
   "pygments_lexer": "ipython3",
   "version": "3.7.3"
  }
 },
 "nbformat": 4,
 "nbformat_minor": 2
}
